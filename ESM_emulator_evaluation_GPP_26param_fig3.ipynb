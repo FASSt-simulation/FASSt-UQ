{
 "cells": [
  {
   "cell_type": "code",
   "execution_count": null,
   "metadata": {},
   "outputs": [],
   "source": [
    "include(\"emulation_functions.jl\")\n",
    "using LinearAlgebra\n",
    "using Random\n",
    "using NCDatasets\n",
    "using NetCDF\n",
    "using LaTeXStrings\n",
    "using BenchmarkTools\n",
    "using Suppressor\n",
    "using StatsBase\n",
    "using Turing\n",
    "using ScikitLearn\n",
    "using CSV\n",
    "using JLD2\n",
    "using DataFrames\n",
    "using Dates"
   ]
  },
  {
   "cell_type": "code",
   "execution_count": null,
   "metadata": {},
   "outputs": [],
   "source": [
    "load_from_file = true"
   ]
  },
  {
   "cell_type": "code",
   "execution_count": null,
   "metadata": {},
   "outputs": [],
   "source": [
    "# import data\n",
    "fname_params = \"sobol_sequence_ensemble_1300_QMC_modex_para_0_normalized.txt\"\n",
    "# Load param vals, remove 2 missing columns at end\n",
    "df = CSV.read(fname_params, DataFrame, header=false)\n",
    "s = Matrix(df);\n",
    "df = df[!, map(x->!all(ismissing, x), eachcol(df))]\n",
    "df = Matrix(DataFrame([[names(df)]; collect.(eachrow(df))], [:column; Symbol.(axes(df, 1))]))[:,2:end]\n",
    "\n",
    "fname_GPP = \"US_Me2_GPP_g0001_g1300_2003_2007_res05.nc\"\n",
    "GPP =ncread(fname_GPP, \"GPP\");\n",
    "time = ncread(fname_GPP, \"time\")\n",
    "ELM_Me2 = Dataset(\"US_Me2_GPP_g0001_g1300_2003_2007_res05.nc\")\n",
    "t = ELM_Me2[\"time\"]\n",
    "time1=year.(t)+dayofyear.(t)/365\n",
    "\n",
    "GPP1 = dropdims(GPP,dims=1)\n",
    "id=findall(.!all.(x -> x .== 0, eachcol(GPP1)));"
   ]
  },
  {
   "cell_type": "markdown",
   "metadata": {},
   "source": [
    "Separate test and train data"
   ]
  },
  {
   "cell_type": "code",
   "execution_count": null,
   "metadata": {},
   "outputs": [],
   "source": [
    "# Set a seed for reproducibility\n",
    "Random.seed!(11);\n",
    "indices_train0 = StatsBase.sample(1:1300, 1000, replace=false)\n",
    "indices_test0 = [i for i in 1:1300 if i ∉ indices_train0]\n",
    "indices_train=intersect(indices_train0, id)\n",
    "indices_test=intersect(indices_test0, id)\n",
    "println(size(indices_test))\n",
    "scatter(s[indices_train ,1], s[indices_train ,2], xlabel=\"p1\", ylabel=\"p2\", title=\"1000 training set\", legend=false, grid=false, framestyle=:box)"
   ]
  },
  {
   "cell_type": "code",
   "execution_count": null,
   "metadata": {},
   "outputs": [],
   "source": [
    "# dimensions: N_time points X N_observations\n",
    "y_train = Float64.(GPP[1,:,indices_train])\n",
    "p_train = Matrix(Float64.(df[:, indices_train]))\n",
    "p_train_norm = p_train # Using normalized parameter values for training \n",
    "\n",
    "y_test = Float64.(GPP[1,:,indices_test])\n",
    "p_test = Matrix(Float64.(df[:, indices_test]));\n",
    "\n",
    "y_all = Float64.(GPP[1,:,:])\n",
    "p_all = Matrix(Float64.(df[:, :]));"
   ]
  },
  {
   "cell_type": "code",
   "execution_count": null,
   "metadata": {},
   "outputs": [],
   "source": [
    "println(size(p_test))"
   ]
  },
  {
   "cell_type": "markdown",
   "metadata": {},
   "source": [
    "Define covariance and mean functions for GP"
   ]
  },
  {
   "cell_type": "code",
   "execution_count": null,
   "metadata": {},
   "outputs": [],
   "source": [
    "# Functions for defining inputs to GP Training\n",
    "# Select mean and covariance function\n",
    "mZero = GaussianProcesses.MeanZero() # Zero mean function\n",
    "kern = GaussianProcesses.SEArd(zeros(size(p_train, 1)), 0.0)"
   ]
  },
  {
   "cell_type": "code",
   "execution_count": null,
   "metadata": {},
   "outputs": [],
   "source": [
    "if !load_from_file\n",
    "    # For PCA method, each column of y_train is an observation \n",
    "    pca_fit= MultivariateStats.fit(PCA, y_train; pratio=1.0, maxoutdim=12) # perform PCA on X, retaining first K PCs\n",
    "    Z_train = project(pca_fit, y_train)\n",
    "    Z_test = project(pca_fit, y_test)\n",
    "\n",
    "    μ_z = mean(Z_train, dims=2)\n",
    "    σ_z = std(Z_train, dims=2)\n",
    "\n",
    "    Z_train_std = (Z_train .- μ_z) ./ σ_z # Standardize the latent variables\n",
    "\n",
    "    array_GP = Array{GPE}(undef,size(pca_fit, 2)) # Create an empty matrix\n",
    "    for j = 1: size(pca_fit, 2)     \n",
    "        gp = GaussianProcesses.GP(p_train_norm, Z_train_std[j, :], mZero, kern)\n",
    "        optimize!(gp, domean = true, kern = true, noise = false, f_tol = 1e-40, g_tol = 1e-14, iterations = 2000)   # Optimizat parameters\n",
    "        array_GP[j] = deepcopy(gp)   # Save each learned GP model to array_GP via deepcopy.\n",
    "    end\n",
    "\n",
    "    p_emulator = (GPs = array_GP, T_PCA = pca_fit, μ_z = μ_z, σ_z = σ_z);\n",
    "    #@save \"emulator_GPP.jld2\" array_GP pca_fit μ_z σ_z\n",
    "    jldsave(\"emulator_GPP_US_Me2.jld2\"; array_GP, pca_fit, μ_z, σ_z)\n",
    "else\n",
    "    @load \"emulator_GPP_US_Me2.jld2\" array_GP pca_fit μ_z σ_z\n",
    "    p_emulator = (GPs = array_GP, T_PCA = pca_fit, μ_z = μ_z, σ_z = σ_z);\n",
    "end\n"
   ]
  },
  {
   "cell_type": "code",
   "execution_count": null,
   "metadata": {},
   "outputs": [],
   "source": [
    "# Construct predictions for all PCAS\n",
    "N_PCA = 12\n",
    "@time GPP_emulator = emulator(p_test', p_emulator, N_PCA);"
   ]
  },
  {
   "cell_type": "code",
   "execution_count": null,
   "metadata": {},
   "outputs": [],
   "source": [
    "y_test_m=mean(y_test,dims=2)\n",
    "GPP_emulator_m=mean(GPP_emulator,dims=2)\n",
    "p1 = plot(xlabel=\"year\", ylabel=L\"\\mathrm{GPP (gC\\, m^{-2}\\, d^{-1})}\", legend=true, title=\"\", grid=false, framestyle=:box, foreground_color_border=:black, foreground_color_axis=:black, tick_direction=:in, tickfontsize=8, foreground_color_text=:black, labelfontsize=8,fontfamily=\"Computer Modern\")\n",
    "plot!(p1, time1, y_test_m*3600*24, label=\"ELM Output\", linewidth=2, linecolor=:red)\n",
    "plot!(p1, time1, GPP_emulator_m, label=\"Emulator Output\",linewidth=1, linecolor=:blue)\n",
    "annotate!(2003, 20, text(\"(a)\", 9, :left),fontfamily=\"Computer Modern\")\n",
    "p2=scatter(y_test_m*3600*24, GPP_emulator_m, label = \"\", xlabel=\"ELM Output\", ylabel=\"Emulator Output\",  marker=:circle, markerstrokecolor=:black, markercolor=:magenta, marker_alpha=0.3, grid=false, framestyle=:box, foreground_color_border=:black, foreground_color_axis=:black, tick_direction=:in, tickfontsize=8, foreground_color_text=:black, fontfamily=\"Computer Modern\", labelfontsize=8,xguidefontcolor = :magenta, yguidefontcolor = :magenta)\n",
    "annotate!(1, 19, text(\"(b)\", 9, :left),fontfamily=\"Computer Modern\")\n",
    "rms_error_emul(Y, p, p_emulator) = [rmsd(Y, emulator(p', p_emulator, J)) for J = 1:size(p_emulator.T_PCA, 2)]; # compute RMSE for all J <= K\n",
    "xtickmarks=[1:12]\n",
    "p3=plot(rms_error_emul(y_test*3600*24, p_test, p_emulator), grid=false, framestyle=:box, foreground_color_border=:black, foreground_color_axis=:black, tick_direction=:in, tickfontsize=8, foreground_color_text=:black, fontfamily=\"Computer Modern\", marker=:circle, label=\"Emulation error\",legendfontsize=8, xticks=(1:12, [\"$i\" for i in 1:12]), linewidth=5, linecolor=:red, markersize=6, markerstrokecolor=:red, markercolor=:red, title=\"\", xlabel=\"Number of Principal Components\", ylabel=\"RMSE\", labelfontsize=8, xguidefontcolor = :red, yguidefontcolor=:blue)\n",
    "plot!(rms_error(pca_fit, y_test)*3600*24, fontfamily=\"Computer Modern\", marker=:circle, label=\"Reconstruction error\", xticks=(1:12, [\"$i\" for i in 1:12]), linewidth=5, linecolor=:blue, markersize=6, markerstrokecolor=:blue, markercolor=:blue)\n",
    "annotate!(2, 1.6, text(\"(c)\", 9, :left), fontfamily=\"Computer Modern\")\n",
    "emu_test=emulator(p_test', p_emulator, 12)\n",
    "mGPP_emu_test = mean(emu_test, dims=1)\n",
    "mGPP_y_test = mean(y_test, dims=1)\n",
    "p4=scatter(mGPP_y_test*3600*24, mGPP_emu_test, label = \"\", xlabel=\"ELM Output\", ylabel=\"Emulator Output\",  marker=:circle, markerstrokecolor=:black, markercolor=:magenta, marker_alpha=0.3, grid=false, framestyle=:box, foreground_color_border=:black, foreground_color_axis=:black, tick_direction=:in, tickfontsize=8, foreground_color_text=:black, fontfamily=\"Computer Modern\", labelfontsize=8,xguidefontcolor = :magenta, yguidefontcolor = :magenta)\n",
    "annotate!(2, 15, text(\"(d)\", 9,:left),fontfamily=\"Computer Modern\")\n",
    "savefig(plot(p1, p2, p3,p4, layout=(2,2)),\"fig3_emulator_evaluation.pdf\")"
   ]
  }
 ],
 "metadata": {
  "kernelspec": {
   "display_name": "Julia 1.11.0-rc2",
   "language": "julia",
   "name": "julia-1.11"
  },
  "language_info": {
   "file_extension": ".jl",
   "mimetype": "application/julia",
   "name": "julia",
   "version": "1.11.0"
  }
 },
 "nbformat": 4,
 "nbformat_minor": 4
}
