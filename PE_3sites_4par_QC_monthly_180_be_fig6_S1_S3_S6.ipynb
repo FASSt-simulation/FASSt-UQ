{
 "cells": [
  {
   "cell_type": "markdown",
   "metadata": {},
   "source": [
    "## Module Imports"
   ]
  },
  {
   "cell_type": "code",
   "execution_count": null,
   "metadata": {},
   "outputs": [],
   "source": [
    "include(\"emulation_functions.jl\")\n",
    "using BenchmarkTools\n",
    "using CSV\n",
    "using JLD2\n",
    "using Dates\n",
    "using MultivariateStats\n",
    "import MultivariateStats: reconstruct\n",
    "using GaussianProcesses\n",
    "using NCDatasets\n",
    "using DataFrames\n",
    "using ForwardDiff\n",
    "using LinearAlgebra\n",
    "using NamedArrays\n",
    "using Plots\n",
    "using Plots.PlotMeasures\n",
    "using Optimization\n",
    "using OptimizationOptimJL\n",
    "using Statistics\n",
    "using StatsPlots\n",
    "using Distributions\n",
    "using Turing\n",
    "using .Threads"
   ]
  },
  {
   "cell_type": "markdown",
   "metadata": {},
   "source": [
    "## Set File Directory\n",
    "Set the `directory_of_files` variable below to the path leading to your folder containing all the data and emulator files."
   ]
  },
  {
   "cell_type": "code",
   "execution_count": null,
   "metadata": {},
   "outputs": [],
   "source": [
    "# directory where all files are located. If it is this working directory, set this to \"./\"\n",
    "directory_of_files = \"./\"; \n",
    "p_names = (:flnr,:slatop,:dleaf,:dsladlai,:leaf_long,:s_vc,:bbbopt,:mbbopt,:smpsc,:smpso,:rholvis,:rholnir,:taulvis,:taulnir,:rhosvis,:rhosnir,:xl,:displar,:z0mr,:vcmaxha,:vcmaxhd,:jmaxha,:jmaxhd,:roota_par,:rootb_par,:grperc)\n",
    "p_names_dis = (:flnr,:slatop,:leaf_long, :rootb_par)\n",
    "\n",
    "D = length(p_names_dis)"
   ]
  },
  {
   "cell_type": "markdown",
   "metadata": {},
   "source": [
    "## Load data "
   ]
  },
  {
   "cell_type": "code",
   "execution_count": null,
   "metadata": {},
   "outputs": [],
   "source": [
    "# Dictionaries to make this all neater\n",
    "output_var_header_names = Dict{String, String}(\"GPP\" => \"GPP_NT_VUT_REF\", \n",
    "                                               \"NEE\" => \"NEE_VUT_REF\", \n",
    "                                               \"LH\" => \"LE_F_MDS\", \n",
    "                                               \"SH\" => \"H_F_MDS\")\n",
    "site_names = Dict{String, String}(\"US_Me2\" => \"fluxnet_US_Me2_2003_2007\", \n",
    "                                  \"US_Dk3\" => \"fluxnet_US_Dk3_2003_2007\",\n",
    "                                  \"CA_TP4\" => \"fluxnet_CA_TP4_2003_2007\",\n",
    "                                  \"US_Blo\" => \"fluxnet_US_Blo_2003_2007\",\n",
    "    );"
   ]
  },
  {
   "cell_type": "markdown",
   "metadata": {},
   "source": [
    "## Load default parameters"
   ]
  },
  {
   "cell_type": "code",
   "execution_count": null,
   "metadata": {},
   "outputs": [],
   "source": [
    "p_default=[0.0509,0.01,0.04,0.0006,1.5,20.72,10000,9,-255000,-66000,0.07,0.35,0.05,0.1,0.16,0.39,0.01,0.67,0.055,72000,200000,50000,200000,3,1.25,0.3]\n",
    "elements = [\"flnr\",\"slatop\",\"dleaf\",\"dsladlai\",\"leaf_long\",\"s_vc\",\"bbbopt\",\"mbbopt\",\"smpsc\",\"smpso\",\"rholvis\",\"rholnir\",\"taulvis\",\n",
    "            \"taulnir\",\"rhosvis\",\"rhosnir\",\"xl\",\"displar\",\"z0mr\",\"vcmaxha\",\"vcmaxhd\",\"jmaxha\",\"jmaxhd\",\"roota_par\",\"rootb_par\",\"grperc\"]\n",
    "p_hard = (  flnr =      [0.04, 0.3],                         \n",
    "            slatop =    [0.003, 0.03],\n",
    "            dleaf =     [0.03, 0.3],\n",
    "            dsladlai =  [0.0002, 0.0035],\n",
    "            leaf_long = [1.0, 12.0],\n",
    "            s_vc =      [16.0,32.0],\n",
    "            bbbopt =    [16000.0,60000.0],\n",
    "            mbbopt =    [4.5, 15],\n",
    "            smpsc =     [-642000.0, -125000.0],\n",
    "            smpso =     [-125000.0, -17500.0],\n",
    "            rholvis =   [0.025, 0.25],\n",
    "            rholnir =   [0.25,0.55],\n",
    "            taulvis =   [0.005,0.20],\n",
    "            taulnir =   [0.15,0.45],\n",
    "            rhosvis =   [0.05,0.30],\n",
    "            rhosnir =   [0.20,0.75],\n",
    "            xl =        [-0.5,0.375],\n",
    "            displar =   [0.6,0.85],\n",
    "            z0mr =      [0.04,0.09],\n",
    "            vcmaxha =   [45000.0,90000.0],\n",
    "            vcmaxhd =   [198000.0, 202000.0],\n",
    "            jmaxha =    [30000.0,65000.0],\n",
    "            jmaxhd =    [198000.0, 202000.0],\n",
    "            roota_par = [2.0,18.0],\n",
    "            rootb_par = [0.5,6.0],\n",
    "            grperc =    [0.125,0.375] );\n",
    "\n",
    "p_hard = [getproperty(p_hard, pn) for pn in propertynames(p_hard)];\n",
    "p_hard_l = mapreduce(permutedims, vcat, p_hard)[:, 1];\n",
    "p_hard_u = mapreduce(permutedims, vcat, p_hard)[:, 2];\n",
    "p_norm = (p_default.- p_hard_l) ./ (p_hard_u .- p_hard_l)"
   ]
  },
  {
   "cell_type": "markdown",
   "metadata": {},
   "source": [
    "## NOTE:\n",
    "#### `output_of_interest`\n",
    "+ \"GPP\"\n",
    "+ \"NEE\"\n",
    "+ \"LE\"\n",
    "+ \"H\"\n"
   ]
  },
  {
   "cell_type": "code",
   "execution_count": null,
   "metadata": {},
   "outputs": [],
   "source": [
    "# == SPECIFY THESE PARAMETERS TO SELECT OUTPUT VAR, SITE EMULATOR, AND CALIBRATION SITE OF INTEREST ===\n",
    "c_site1_to_calibrate_to = \"US_Me2\"\n",
    "c_site2_to_calibrate_to = \"US_Dk3\"\n",
    "c_site3_to_calibrate_to = \"US_Blo\"\n",
    "c_site4_to_calibrate_to = \"CA_TP4\"\n",
    "c_site5_to_calibrate_to = \"US_NR1\"\n",
    "\n",
    "output_of_interest = \"GPP\"\n"
   ]
  },
  {
   "cell_type": "code",
   "execution_count": null,
   "metadata": {},
   "outputs": [],
   "source": [
    "#site =  site_names[site_to_calibrate_to]\n",
    "output = output_var_header_names[output_of_interest]\n",
    "begin_date = \"2003\" # Begin date of fluxnet data file (in case this changes in the future)\n",
    "end_date = \"2007\" # End data of fluxnet data file (in case this changes in the future)"
   ]
  },
  {
   "cell_type": "code",
   "execution_count": null,
   "metadata": {},
   "outputs": [],
   "source": [
    "function calculate_10day_average(data0)\n",
    "    num_years = 5  \n",
    "    monthday=[10, 10,11,10,10,8,10,10,11,10,10,10,10,10,11,10,10,10,10,10,11,10,10,11,10,10,10,10,10,11,10,10,10,10,10,11];\n",
    "    monthly_average = Vector{Float64}()\n",
    "    end_day=0\n",
    "    for year in 1:num_years\n",
    "        start_day=end_day+1\n",
    "        for month in 1:36\n",
    "            end_day = start_day + monthday[month]-1\n",
    "            temp=mean(filter(!isnan,data0[start_day:end_day,:]), dims=1)\n",
    "            push!(monthly_average,temp[1])\n",
    "            start_day=end_day+1\n",
    "        end\n",
    "    end\n",
    "    println(typeof(monthly_average))\n",
    "    println(size(monthly_average))\n",
    "    return monthly_average\n",
    "end"
   ]
  },
  {
   "cell_type": "code",
   "execution_count": null,
   "metadata": {},
   "outputs": [],
   "source": [
    "data = CSV.read(\"$(directory_of_files)/fluxnet_$(c_site1_to_calibrate_to)_$(begin_date)_$(end_date)_QC.txt\", DataFrame, header=1, delim=\",\")\n",
    "y_site1 = Array(data[!, output])\n",
    "id_1=findall(y_site1.<0)\n",
    "y_site1[id_1].=0\n",
    "data = CSV.read(\"$(directory_of_files)/fluxnet_$(c_site2_to_calibrate_to)_$(begin_date)_$(end_date)_QC.txt\", DataFrame, header=1, delim=\",\")\n",
    "y_site2 = Array(data[!, output])\n",
    "id_2=findall(y_site2.<0)\n",
    "y_site2[id_2].=0\n",
    "data = CSV.read(\"$(directory_of_files)/fluxnet_$(c_site3_to_calibrate_to)_$(begin_date)_$(end_date)_QC.txt\", DataFrame, header=1, delim=\",\")\n",
    "y_site3 = Array(data[!, output])\n",
    "id_3=findall(y_site3.<0)\n",
    "y_site3[id_3].=0\n",
    "data = CSV.read(\"$(directory_of_files)/fluxnet_$(c_site4_to_calibrate_to)_$(begin_date)_$(end_date)_QC.txt\", DataFrame, header=1, delim=\",\")\n",
    "y_site4 = Array(data[!, output]);\n",
    "id_4=findall(y_site4.<0)\n",
    "y_site4[id_4].=0\n",
    "data = CSV.read(\"$(directory_of_files)/fluxnet_$(c_site5_to_calibrate_to)_$(begin_date)_$(end_date)_QC.txt\", DataFrame, header=1, delim=\",\")\n",
    "y_site5 = Array(data[!, output]);\n",
    "id_5=findall(y_site5.<0)\n",
    "y_site5[id_5].=0"
   ]
  },
  {
   "cell_type": "code",
   "execution_count": null,
   "metadata": {},
   "outputs": [],
   "source": [
    "GPP_01 = calculate_10day_average(y_site1)\n",
    "GPP_02 = calculate_10day_average(y_site2)\n",
    "GPP_03 = calculate_10day_average(y_site3)\n",
    "GPP_04 = calculate_10day_average(y_site4)\n",
    "GPP_05 = calculate_10day_average(y_site5)\n",
    "plt=plot(GPP_01,linewidth=2,label=\"US_Me2\")\n",
    "plot!(GPP_02,linewidth=2,label=\"US_Dk3\")\n",
    "plot!(GPP_03,linewidth=2,label=\"US_Blo\")\n",
    "plot!(GPP_04,linewidth=2,label=\"CA_TP4\")\n",
    "plot!(GPP_05,linewidth=2,label=\"US_NR1\")"
   ]
  },
  {
   "cell_type": "code",
   "execution_count": null,
   "metadata": {},
   "outputs": [],
   "source": [
    "ensembles0 = CSV.read(\"./parameters_normalized_emulator_result_US_Me2_GPP_200_4par.txt\", DataFrame; header = false, transpose=true);\n",
    "GPP1 = Matrix(ensembles0)'*24*3600\n",
    "ensembles_mGPP1 = mean(GPP1, dims=1)\n",
    "GPP_Me2_be_200=GPP1[:,144]\n",
    "plot(GPP_Me2_be_200)"
   ]
  },
  {
   "cell_type": "code",
   "execution_count": null,
   "metadata": {},
   "outputs": [],
   "source": [
    "ensembles0 = CSV.read(\"./parameters_normalized_emulator_result_US_Blo_GPP_200_4par.txt\", DataFrame; header = false, transpose=true);\n",
    "GPP1 = Matrix(ensembles0)'*24*3600\n",
    "ensembles_mGPP1 = mean(GPP1, dims=1)\n",
    "GPP_Blo_be_200=GPP1[:,8]\n",
    "plot(GPP_Blo_be_200)"
   ]
  },
  {
   "cell_type": "code",
   "execution_count": null,
   "metadata": {},
   "outputs": [],
   "source": [
    "ensembles0 = CSV.read(\"./parameters_normalized_emulator_result_US_NR1_GPP_200_4par.txt\", DataFrame; header = false, transpose=true);\n",
    "GPP1 = Matrix(ensembles0)'*24*3600\n",
    "ensembles_mGPP1 = mean(GPP1, dims=1)\n",
    "GPP_NR1_be_200=GPP1[:,32]\n",
    "plot(GPP_NR1_be_200)"
   ]
  },
  {
   "cell_type": "code",
   "execution_count": null,
   "metadata": {},
   "outputs": [],
   "source": [
    "#Random.seed!(123)\n",
    "a1=std(y_site1-GPP_Me2_be_200)\n",
    "a3=std(y_site3-GPP_Blo_be_200)\n",
    "a5=std(y_site5-GPP_NR1_be_200)\n",
    "println([a1,a3,a5])\n",
    "iid_normal_noise1 = a1*randn(1825)\n",
    "GPP_01_be=calculate_10day_average(GPP_Me2_be_200+iid_normal_noise1)\n",
    "iid_normal_noise3 = a3*randn(1825)\n",
    "GPP_03_be=calculate_10day_average(GPP_Blo_be_200+iid_normal_noise3)\n",
    "iid_normal_noise5 = a5*randn(1825)\n",
    "GPP_05_be=calculate_10day_average(GPP_NR1_be_200+iid_normal_noise5)"
   ]
  },
  {
   "cell_type": "markdown",
   "metadata": {},
   "source": [
    "## Load emulator (all GPs used in reconstruction)"
   ]
  },
  {
   "cell_type": "code",
   "execution_count": null,
   "metadata": {},
   "outputs": [],
   "source": [
    "emulator_filename1 = \"$(directory_of_files)/emulator_$(output_of_interest)_$(c_site1_to_calibrate_to)_200_4par.jld2\";\n",
    "@load emulator_filename1 array_GP pca_fit μ_z σ_z\n",
    "emulator_components1 = (GPs = array_GP, T_PCA = pca_fit, μ_z = μ_z, σ_z = σ_z);\n",
    "emulator_filename3 = \"$(directory_of_files)/emulator_$(output_of_interest)_$(c_site3_to_calibrate_to)_200_4par.jld2\";\n",
    "@load emulator_filename3 array_GP pca_fit μ_z σ_z\n",
    "emulator_components3 = (GPs = array_GP, T_PCA = pca_fit, μ_z = μ_z, σ_z = σ_z);\n",
    "emulator_filename5 = \"$(directory_of_files)/emulator_$(output_of_interest)_$(c_site5_to_calibrate_to)_200_4par.jld2\";\n",
    "@load emulator_filename5 array_GP pca_fit μ_z σ_z\n",
    "emulator_components5 = (GPs = array_GP, T_PCA = pca_fit, μ_z = μ_z, σ_z = σ_z);"
   ]
  },
  {
   "cell_type": "markdown",
   "metadata": {},
   "source": [
    "## Bayesian Parameter Calibration"
   ]
  },
  {
   "cell_type": "markdown",
   "metadata": {},
   "source": [
    "## Create probabilistic model"
   ]
  },
  {
   "cell_type": "markdown",
   "metadata": {},
   "source": [
    "Our likelihood looks like linear regression and features discrepency terms $\\beta_0$ and $\\beta_1$ in addition to noise term $\\epsilon$.\n",
    "\n",
    "### Likelihood: \n",
    "$$y \\sim \\beta_1 GP(\\theta) + \\epsilon, \\qquad $$\n",
    "$$\\epsilon \\stackrel{iid}{\\sim} N(0,\\sigma^2)$$\n",
    "\n",
    "for now we assume a known $\\sigma$, but we could estimate this parameter as well. $y$ is any quantity of interest predicted by the GP, $\\theta$ are the model parameters (from the ELM model, the set of 26 params)\n",
    "\n",
    "### Priors: \n",
    "\n",
    "$$\\theta \\sim p(\\theta)$$ \n",
    "$$p(\\theta) = Normal(0.5,0.25)$$\n",
    "$$\\log(\\sigma) \\sim N(\\log 1, ((\\log 2)/2)^2)$$\n",
    "\n",
    "And I chose Normal priors for the regression parameters and LogNormal for the standard deviation. \n"
   ]
  },
  {
   "cell_type": "markdown",
   "metadata": {},
   "source": [
    "### Site 1"
   ]
  },
  {
   "cell_type": "code",
   "execution_count": null,
   "metadata": {},
   "outputs": [],
   "source": [
    "#try other priors and define the model (emulator) outside for final validation (sample observation & simulated observation)\n",
    "function priors(num_params)\n",
    "    return filldist( Truncated(Normal(0.5,0.25), 0,1), num_params)\n",
    "end\n",
    "model_1(θ,N_PCA)= calibration_emulator1(θ, emulator_components1, N_PCA);\n",
    "\n",
    "Q(y)=mean(y)"
   ]
  },
  {
   "cell_type": "code",
   "execution_count": null,
   "metadata": {},
   "outputs": [],
   "source": [
    "@model function prob_model_1(y, num_params, N_PCA)\n",
    "    # Define the priors\n",
    "    p ~ priors(num_params)\n",
    "    #β_0 ~ Normal(0, 1/3)\n",
    "    β_1 ~ Uniform(0.9,1.1)\n",
    "    σ ~ LogNormal(log(1), log(2)/2)\n",
    "    \n",
    "    θ = reshape(p, 1,length(p)) # GP is very picky about dimensions, so we need to reshape here\n",
    "    m=model_1(θ,N_PCA)\n",
    "    \n",
    "    y ~ MvNormal(β_1*m, σ^2*I )\n",
    "    return Q(m)\n",
    "end "
   ]
  },
  {
   "cell_type": "code",
   "execution_count": null,
   "metadata": {},
   "outputs": [],
   "source": [
    "alg = NUTS(1000,0.65)\n",
    "strategy = MCMCSerial()\n",
    "N_param=4\n",
    "N_sample =5000\n",
    "N_chain = 5\n",
    "model = prob_model_1(GPP_01_be, N_param, 12)\n",
    "@time chain1 = Turing.sample(model, alg, strategy, N_sample, N_chain; progress=true)\n",
    "chain1 = replacenames(chain1, Dict(\"p[$i]\" => p_names_dis[i] for i in 1:D))\n",
    "@save \"US_Me2_GPP_be_a1_iid_nobeta0_5000_5_4par_180day_3sites_1.jld2\" chain1"
   ]
  },
  {
   "cell_type": "markdown",
   "metadata": {},
   "source": [
    "### Site 3"
   ]
  },
  {
   "cell_type": "code",
   "execution_count": null,
   "metadata": {},
   "outputs": [],
   "source": [
    "#try other priors and define the model (emulator) outside for final validation (sample observation & simulated observation)\n",
    "function priors(num_params)\n",
    "    return filldist( Truncated(Normal(0.5,0.25), 0,1), num_params)\n",
    "end\n",
    "model_3(θ,N_PCA)= calibration_emulator1(θ, emulator_components3, N_PCA);\n",
    "\n",
    "Q(y)=mean(y)"
   ]
  },
  {
   "cell_type": "code",
   "execution_count": null,
   "metadata": {},
   "outputs": [],
   "source": [
    "@model function prob_model_3(y, num_params, N_PCA)\n",
    "    # Define the priors\n",
    "    p ~ priors(num_params)\n",
    "    #β_0 ~ Normal(0, 1/3)\n",
    "    β_1 ~ Uniform(0.9,1.1)\n",
    "    σ ~ LogNormal(log(1), log(2)/2)\n",
    "    \n",
    "    θ = reshape(p, 1,length(p)) # GP is very picky about dimensions, so we need to reshape here\n",
    "    m=model_3(θ,N_PCA)\n",
    "    \n",
    "    y ~ MvNormal(β_1*m, σ^2*I )\n",
    "    return Q(m)\n",
    "end "
   ]
  },
  {
   "cell_type": "code",
   "execution_count": null,
   "metadata": {},
   "outputs": [],
   "source": [
    "alg = NUTS(1000,0.65)\n",
    "strategy = MCMCSerial()\n",
    "N_param=4\n",
    "N_sample =5000\n",
    "N_chain = 5\n",
    "#GPP_03_be=calculate_monthly_average(GPP_Blo_be_200+iid_normal_noise)\n",
    "model = prob_model_3(GPP_03_be, N_param, 12)\n",
    "@time chain3 = Turing.sample(model, alg, strategy, N_sample, N_chain; progress=true)\n",
    "chain3 = replacenames(chain3, Dict(\"p[$i]\" => p_names_dis[i] for i in 1:D))\n",
    "@save \"US_Blo_GPP_be_a3_iid_nobeta0_5000_5_4par_180day_3sites_1.jld2\" chain3"
   ]
  },
  {
   "cell_type": "markdown",
   "metadata": {},
   "source": [
    "### site 5"
   ]
  },
  {
   "cell_type": "code",
   "execution_count": null,
   "metadata": {},
   "outputs": [],
   "source": [
    "#try other priors and define the model (emulator) outside for final validation (sample observation & simulated observation)\n",
    "function priors(num_params)\n",
    "    return filldist( Truncated(Normal(0.5,0.25), 0,1), num_params)\n",
    "end\n",
    "model_5(θ,N_PCA)= calibration_emulator1(θ, emulator_components5, N_PCA);\n",
    "\n",
    "Q(y)=mean(y)"
   ]
  },
  {
   "cell_type": "code",
   "execution_count": null,
   "metadata": {},
   "outputs": [],
   "source": [
    "@model function prob_model_5(y, num_params, N_PCA)\n",
    "    # Define the priors\n",
    "    p ~ priors(num_params)\n",
    "    #β_0 ~ Normal(0, 1/3)\n",
    "    β_1 ~ Uniform(0.9,1.1)\n",
    "    σ ~ LogNormal(log(1), log(2)/2)\n",
    "    \n",
    "    θ = reshape(p, 1,length(p)) # GP is very picky about dimensions, so we need to reshape here\n",
    "    m=model_5(θ,N_PCA)\n",
    "    \n",
    "    y ~ MvNormal(β_1*m, σ^2*I )\n",
    "    return Q(m)\n",
    "end "
   ]
  },
  {
   "cell_type": "code",
   "execution_count": null,
   "metadata": {},
   "outputs": [],
   "source": [
    "alg = NUTS(1000,0.65)\n",
    "strategy = MCMCSerial()\n",
    "N_param=4\n",
    "N_sample =5000\n",
    "N_chain = 1\n",
    "chain5 = Array{Any}(undef, 5);\n",
    "model = prob_model_5(GPP_05_be, N_param, 12)\n",
    "for n=1:5\n",
    "iid_normal_noise5 = a5*randn(1825)\n",
    "GPP_05_be=calculate_monthly_average(GPP_NR1_be_200+iid_normal_noise5)\n",
    "@time chain5[n] = Turing.sample(prob_model_5(GPP_05_be, N_param, 12), alg, strategy, N_sample, N_chain; progress=true)\n",
    "chain5[n]  = replacenames(chain5[n], Dict(\"p[$i]\" => p_names_dis[i] for i in 1:D))\n",
    "end\n",
    "@save \"US_NR1_GPP_be_a5_diff_iid_nobeta0_5000_5_4par_180day_3sites_1.jld2\" chain5"
   ]
  },
  {
   "cell_type": "code",
   "execution_count": null,
   "metadata": {},
   "outputs": [],
   "source": [
    "alg = NUTS(1000,0.65)\n",
    "strategy = MCMCSerial()\n",
    "N_param=4\n",
    "N_sample =5000\n",
    "N_chain = 5\n",
    "model = prob_model_5(GPP_05_be, N_param, 12)\n",
    "@time chain5 = Turing.sample(model, alg, strategy, N_sample, N_chain; progress=true)\n",
    "chain5 = replacenames(chain5, Dict(\"p[$i]\" => p_names_dis[i] for i in 1:D))\n",
    "@save \"US_NR1_GPP_be_a5_iid_nobeta0_5000_5_4par_180day_3sites_1.jld2\" chain5"
   ]
  },
  {
   "cell_type": "markdown",
   "metadata": {},
   "source": [
    "### plot posterior parameter distribution"
   ]
  },
  {
   "cell_type": "code",
   "execution_count": null,
   "metadata": {},
   "outputs": [],
   "source": [
    "using CairoMakie"
   ]
  },
  {
   "cell_type": "code",
   "execution_count": null,
   "metadata": {},
   "outputs": [],
   "source": [
    "@load \"US_Me2_GPP_be_a1_iid_nobeta0_5000_5_4par_180day_3sites_1.jld2\" chain1\n",
    "achain1=Array(chain1)\n",
    "@load \"US_Blo_GPP_be_a3_iid_nobeta0_5000_5_4par_180day_3sites_1.jld2\" chain3\n",
    "achain3=Array(chain3)\n",
    "@load \"US_NR1_GPP_be_a5_iid_nobeta0_5000_5_4par_180day_3sites_1.jld2\" chain5\n",
    "achain5=Array(chain5)"
   ]
  },
  {
   "cell_type": "code",
   "execution_count": null,
   "metadata": {},
   "outputs": [],
   "source": [
    "N_param=4\n",
    "chain_site1_prior = Turing.sample(prob_model_1(GPP_01,N_param,12), Prior(), 5000)\n",
    "chain_site1_prior = replacenames(chain_site1_prior, Dict(\"p[$n]\" => p_names_dis[n] for n in 1:D))"
   ]
  },
  {
   "cell_type": "code",
   "execution_count": null,
   "metadata": {},
   "outputs": [],
   "source": [
    "fig = Figure(size= (600, 800));"
   ]
  },
  {
   "cell_type": "code",
   "execution_count": null,
   "metadata": {},
   "outputs": [],
   "source": [
    "ax1=Axis(fig[1, 1],ylabel=\"flnr\",title=\"BE+same noise\")\n",
    "\n",
    "p1=CairoMakie.density!(ax1, vec(chain_site1_prior[:flnr]), color = (:blue, 0.0), strokecolor = :black, strokewidth = 3)\n",
    "p2=CairoMakie.density!(ax1, vec(chain1[:flnr][:,1]), color = (:red, 0.0), strokecolor = :blue, strokewidth = 3)\n",
    "p3=CairoMakie.density!(ax1, vec(chain3[:flnr][:,1]), color = (:red, 0.0),  strokecolor = :red, strokewidth = 3)\n",
    "p4=CairoMakie.density!(ax1, vec(chain5[:flnr][:,1]), color = (:green, 0.0), strokecolor = :green, strokewidth = 3)\n",
    "\n",
    "for i=2:5\n",
    "CairoMakie.density!(ax1, vec(chain_site1_prior[:slatop]), color = (:blue, 0.0), strokecolor = :black, strokewidth = 3)\n",
    "CairoMakie.density!(ax1, vec(chain1[:flnr][:,i]), color = (:blue, 0.0), strokecolor = :blue, strokewidth = 3)\n",
    "CairoMakie.density!(ax1, vec(chain3[:flnr][:,i]), color = (:red, 0.0), strokecolor = :red, strokewidth = 3)\n",
    "CairoMakie.density!(ax1, vec(chain5[:flnr][:,i]), color = (:green, 0.0), strokecolor = :green, strokewidth = 3)\n",
    "# Add vertical lines\n",
    "vlines!(ax1, [0.07], color=:blue, linewidth=1.5, label=\"\")\n",
    "vlines!(ax1, [0.14], color=:red, linewidth=1.5, label=\"\")\n",
    "vlines!(ax1, [0.04], color=:green, linewidth=1.5, label=\"\")\n",
    "end\n",
    "CairoMakie.xlims!(ax1,-0.0,1.0)\n",
    "CairoMakie.ylims!(ax1,-2,20)\n",
    "axislegend(ax1,[p1,p2,p3,p4],[\"Prior\",\"US-Me2\",\"US-Blo\",\"US-NR1\"], position = :rt)"
   ]
  },
  {
   "cell_type": "code",
   "execution_count": null,
   "metadata": {},
   "outputs": [],
   "source": [
    "ax2=Axis(fig[2, 1],ylabel=\"slatop\")\n",
    "for i=1:5\n",
    "CairoMakie.density!(ax2, vec(chain_site1_prior[:slatop]), color = (:blue, 0.0), strokecolor = :black, strokewidth = 3)\n",
    "CairoMakie.density!(ax2, vec(chain1[:slatop][:,i]), color = (:blue, 0.0), strokecolor = :blue, strokewidth = 3)\n",
    "CairoMakie.density!(ax2, vec(chain3[:slatop][:,i]), color = (:red, 0.0), strokecolor = :red, strokewidth = 3)\n",
    "CairoMakie.density!(ax2, vec(chain5[:slatop][:,i]), color = (:green, 0.0), strokecolor = :green, strokewidth = 3)\n",
    "vlines!(ax2, [0.56], color=:blue, linewidth=1.5, label=\"\")\n",
    "vlines!(ax2, [0.96], color=:red, linewidth=1.5, label=\"\")\n",
    "vlines!(ax2, [0.86], color=:green, linewidth=1.5, label=\"\")\n",
    "end\n",
    "CairoMakie.xlims!(ax2,-0.0,1.0)\n",
    "CairoMakie.ylims!(ax2,-2,15)"
   ]
  },
  {
   "cell_type": "code",
   "execution_count": null,
   "metadata": {},
   "outputs": [],
   "source": [
    "ax3=Axis(fig[3, 1],ylabel=\"leaf_long\")\n",
    "for i=1:5\n",
    "CairoMakie.density!(ax3, vec(chain_site1_prior[:leaf_long]), color = (:blue, 0.0), strokecolor = :black, strokewidth = 3)\n",
    "CairoMakie.density!(ax3, vec(chain1[:leaf_long][:,i]), color = (:blue, 0.0), strokecolor = :blue, strokewidth = 3)\n",
    "CairoMakie.density!(ax3, vec(chain3[:leaf_long][:,i]), color = (:red, 0.0), strokecolor = :red, strokewidth = 3)\n",
    "CairoMakie.density!(ax3, vec(chain5[:leaf_long][:,i]), color = (:green, 0.0), strokecolor = :green, strokewidth = 3)\n",
    "vlines!(ax3, [0.24], color=:blue, linewidth=1.5, label=\"\")\n",
    "vlines!(ax3, [0.17], color=:red, linewidth=1.5, label=\"\")\n",
    "vlines!(ax3, [0.64], color=:green, linewidth=1.5, label=\"\")\n",
    "end\n",
    "CairoMakie.xlims!(ax3,-0.0,1.0)\n",
    "CairoMakie.ylims!(ax3,-0.2,8)"
   ]
  },
  {
   "cell_type": "code",
   "execution_count": null,
   "metadata": {},
   "outputs": [],
   "source": [
    "ax4=Axis(fig[4, 1],ylabel=\"rootb_par\")\n",
    "for i=1:5\n",
    "CairoMakie.density!(ax4, vec(chain_site1_prior[:rootb_par]), color = (:blue, 0.0), strokecolor = :black, strokewidth = 3)\n",
    "CairoMakie.density!(ax4, vec(chain1[:rootb_par][:,i]), color = (:blue, 0.0), strokecolor = :blue, strokewidth = 3)\n",
    "CairoMakie.density!(ax4, vec(chain3[:rootb_par][:,i]), color = (:red, 0.0), strokecolor = :red, strokewidth = 3)\n",
    "CairoMakie.density!(ax4, vec(chain5[:rootb_par][:,i]), color = (:green, 0.0), strokecolor = :green, strokewidth = 3)\n",
    "vlines!(ax4, [0.11], color=:blue, linewidth=1.5, label=\"\")\n",
    "vlines!(ax4, [0.07], color=:red, linewidth=1.5, label=\"\")\n",
    "vlines!(ax4, [0.79], color=:green, linewidth=1.5, label=\"\")\n",
    "end\n",
    "CairoMakie.xlims!(ax4,-0.0,1.0)\n",
    "CairoMakie.ylims!(ax4,-2,23)"
   ]
  },
  {
   "cell_type": "code",
   "execution_count": null,
   "metadata": {},
   "outputs": [],
   "source": [
    "@load \"US_Me2_GPP_be_a1_diff_iid_nobeta0_5000_5_4par_180day_3sites_1.jld2\" chain1\n",
    "achain1=Array(chain1)\n",
    "@load \"US_Blo_GPP_be_a3_diff_iid_nobeta0_5000_5_4par_180day_3sites_1.jld2\" chain3\n",
    "achain3=Array(chain3)\n",
    "@load \"US_NR1_GPP_be_a5_diff_iid_nobeta0_5000_5_4par_180day_3sites_1.jld2\" chain5\n",
    "achain5=Array(chain5)"
   ]
  },
  {
   "cell_type": "code",
   "execution_count": null,
   "metadata": {},
   "outputs": [],
   "source": [
    "ax7=Axis(fig[1, 2],title=\"BE+different noise\")\n",
    "for i=1:5\n",
    "CairoMakie.density!(ax7, vec(chain_site1_prior[:flnr]), color = (:blue, 0.0), strokecolor = :black, strokewidth = 3)\n",
    "CairoMakie.density!(ax7, vec(chain1[i][:flnr]), color = (:blue, 0.0), strokecolor = :blue, strokewidth = 3)\n",
    "CairoMakie.density!(ax7, vec(chain3[i][:flnr]), color = (:red, 0.0), strokecolor = :red, strokewidth = 3)\n",
    "CairoMakie.density!(ax7, vec(chain5[i][:flnr]), color = (:green, 0.0), strokecolor = :green, strokewidth = 3)\n",
    "vlines!(ax7, [0.07], color=:blue, linewidth=1.5, label=\"\")\n",
    "vlines!(ax7, [0.14], color=:red, linewidth=1.5, label=\"\")\n",
    "vlines!(ax7, [0.04], color=:green, linewidth=1.5, label=\"\")\n",
    "end\n",
    "CairoMakie.xlims!(ax7,-0.0,1.0)\n",
    "CairoMakie.ylims!(ax7,-2,20)\n",
    "#fig"
   ]
  },
  {
   "cell_type": "code",
   "execution_count": null,
   "metadata": {},
   "outputs": [],
   "source": [
    "ax8=Axis(fig[2, 2])\n",
    "for i=1:5\n",
    "CairoMakie.density!(ax8, vec(chain_site1_prior[:slatop]), color = (:blue, 0.0), strokecolor = :black, strokewidth = 3)\n",
    "CairoMakie.density!(ax8, vec(chain1[i][:slatop]), color = (:blue, 0.0), strokecolor = :blue, strokewidth = 3)\n",
    "CairoMakie.density!(ax8, vec(chain3[i][:slatop]), color = (:red, 0.0), strokecolor = :red, strokewidth = 3)\n",
    "CairoMakie.density!(ax8, vec(chain5[i][:slatop]), color = (:green, 0.0), strokecolor = :green, strokewidth = 3)\n",
    "vlines!(ax8, [0.56], color=:blue, linewidth=1.5, label=\"\")\n",
    "vlines!(ax8, [0.96], color=:red, linewidth=1.5, label=\"\")\n",
    "vlines!(ax8, [0.86], color=:green, linewidth=1.5, label=\"\")\n",
    "CairoMakie.xlims!(ax8,-0.0,1.0)\n",
    "CairoMakie.ylims!(ax8,-2,15)\n",
    "end"
   ]
  },
  {
   "cell_type": "code",
   "execution_count": null,
   "metadata": {},
   "outputs": [],
   "source": [
    "ax9=Axis(fig[3, 2])\n",
    "for i=1:5\n",
    "CairoMakie.density!(ax9, vec(chain_site1_prior[:leaf_long]), color = (:blue, 0.0), strokecolor = :black, strokewidth = 3)\n",
    "CairoMakie.density!(ax9, vec(chain1[i][:leaf_long]), color = (:blue, 0.0), strokecolor = :blue, strokewidth = 3)\n",
    "CairoMakie.density!(ax9, vec(chain3[i][:leaf_long]), color = (:red, 0.0), strokecolor = :red, strokewidth = 3)\n",
    "CairoMakie.density!(ax9, vec(chain5[i][:leaf_long]), color = (:green, 0.0), strokecolor = :green, strokewidth = 3)\n",
    "vlines!(ax9, [0.24], color=:blue, linewidth=1.5, label=\"\")\n",
    "vlines!(ax9, [0.17], color=:red, linewidth=1.5, label=\"\")\n",
    "vlines!(ax9, [0.64], color=:green, linewidth=1.5, label=\"\")\n",
    "CairoMakie.xlims!(ax9,-0.0,1.0)\n",
    "CairoMakie.ylims!(ax9,-0.2,8)\n",
    "end"
   ]
  },
  {
   "cell_type": "code",
   "execution_count": null,
   "metadata": {},
   "outputs": [],
   "source": [
    "ax10=Axis(fig[4, 2])\n",
    "for i=1:5\n",
    "CairoMakie.density!(ax10, vec(chain_site1_prior[:rootb_par]), color = (:blue, 0.0), strokecolor = :black, strokewidth = 3)\n",
    "CairoMakie.density!(ax10, vec(chain1[i][:rootb_par]), color = (:blue, 0.0), strokecolor = :blue, strokewidth = 3)\n",
    "CairoMakie.density!(ax10, vec(chain3[i][:rootb_par]), color = (:red, 0.0), strokecolor = :red, strokewidth = 3)\n",
    "CairoMakie.density!(ax10, vec(chain5[i][:rootb_par]), color = (:green, 0.0), strokecolor = :green, strokewidth = 3)\n",
    "vlines!(ax10, [0.11], color=:blue, linewidth=1.5, label=\"\")\n",
    "vlines!(ax10, [0.07], color=:red, linewidth=1.5, label=\"\")\n",
    "vlines!(ax10, [0.79], color=:green, linewidth=1.5, label=\"\")\n",
    "CairoMakie.xlims!(ax10,-0.0,1.0)\n",
    "CairoMakie.ylims!(ax10,-2,23)\n",
    "end"
   ]
  },
  {
   "cell_type": "code",
   "execution_count": null,
   "metadata": {},
   "outputs": [],
   "source": [
    "fig"
   ]
  },
  {
   "cell_type": "code",
   "execution_count": null,
   "metadata": {},
   "outputs": [],
   "source": [
    "save(\"figS1_3site_be_a_diff_iid_nobeta0_param_PDF_20250224.pdf\",fig)"
   ]
  },
  {
   "cell_type": "code",
   "execution_count": null,
   "metadata": {},
   "outputs": [],
   "source": [
    "fig = Figure(size= (600, 800));"
   ]
  },
  {
   "cell_type": "code",
   "execution_count": null,
   "metadata": {},
   "outputs": [],
   "source": [
    "@load \"US_Me2_GPP_be_a1_iid_nobeta0_5000_5_4par_180day_3sites_1.jld2\" chain1\n",
    "achain1=Array(chain1)\n",
    "@load \"US_Blo_GPP_be_a3_iid_nobeta0_5000_5_4par_180day_3sites_1.jld2\" chain3\n",
    "achain3=Array(chain3)\n",
    "@load \"US_NR1_GPP_be_a5_iid_nobeta0_5000_5_4par_180day_3sites_1.jld2\" chain5\n",
    "achain5=Array(chain5)"
   ]
  },
  {
   "cell_type": "code",
   "execution_count": null,
   "metadata": {},
   "outputs": [],
   "source": [
    "\n",
    "ax1=Axis(fig[1, 1],ylabel=\"flnr\",title=\"BE+noise\")\n",
    "p1=CairoMakie.density!(ax1, vec(chain_site1_prior[:flnr]), color = (:blue, 0.0), strokecolor = :black, strokewidth = 3)\n",
    "p2=CairoMakie.density!(ax1, vec(chain1[:flnr][:,1]), color = (:red, 0.0), strokecolor = :blue, strokewidth = 3)\n",
    "p3=CairoMakie.density!(ax1, vec(chain3[:flnr][:,1]), color = (:red, 0.0),  strokecolor = :red, strokewidth = 3)\n",
    "p4=CairoMakie.density!(ax1, vec(chain5[:flnr][:,1]), color = (:green, 0.0), strokecolor = :green, strokewidth = 3)\n",
    "\n",
    "# Add vertical lines\n",
    "vlines!(ax1, [0.07], color=:blue, linewidth=1.5, label=\"\")\n",
    "vlines!(ax1, [0.14], color=:red, linewidth=1.5, label=\"\")\n",
    "vlines!(ax1, [0.04], color=:green, linewidth=1.5, label=\"\")\n",
    "#end\n",
    "CairoMakie.xlims!(ax1,-0.0,1.0)\n",
    "CairoMakie.ylims!(ax1,-2,20)\n",
    "axislegend(ax1,[p1,p2,p3,p4],[\"Prior\",\"US-Me2\",\"US-Blo\",\"US-NR1\"], position = :rt)"
   ]
  },
  {
   "cell_type": "code",
   "execution_count": null,
   "metadata": {},
   "outputs": [],
   "source": [
    "ax2=Axis(fig[2, 1],ylabel=\"slatop\")\n",
    "for i=1:1\n",
    "CairoMakie.density!(ax2, vec(chain_site1_prior[:slatop]), color = (:blue, 0.0), strokecolor = :black, strokewidth = 3)\n",
    "CairoMakie.density!(ax2, vec(chain1[:slatop][:,i]), color = (:blue, 0.0), strokecolor = :blue, strokewidth = 3)\n",
    "CairoMakie.density!(ax2, vec(chain3[:slatop][:,i]), color = (:red, 0.0), strokecolor = :red, strokewidth = 3)\n",
    "CairoMakie.density!(ax2, vec(chain5[:slatop][:,i]), color = (:green, 0.0), strokecolor = :green, strokewidth = 3)\n",
    "vlines!(ax2, [0.56], color=:blue, linewidth=1.5, label=\"\")\n",
    "vlines!(ax2, [0.96], color=:red, linewidth=1.5, label=\"\")\n",
    "vlines!(ax2, [0.86], color=:green, linewidth=1.5, label=\"\")\n",
    "end\n",
    "CairoMakie.xlims!(ax2,-0.0,1.0)\n",
    "CairoMakie.ylims!(ax2,-2,15)"
   ]
  },
  {
   "cell_type": "code",
   "execution_count": null,
   "metadata": {},
   "outputs": [],
   "source": [
    "ax3=Axis(fig[3, 1],ylabel=\"leaf_long\")\n",
    "for i=1:1\n",
    "CairoMakie.density!(ax3, vec(chain_site1_prior[:leaf_long]), color = (:blue, 0.0), strokecolor = :black, strokewidth = 3)\n",
    "CairoMakie.density!(ax3, vec(chain1[:leaf_long][:,i]), color = (:blue, 0.0), strokecolor = :blue, strokewidth = 3)\n",
    "CairoMakie.density!(ax3, vec(chain3[:leaf_long][:,i]), color = (:red, 0.0), strokecolor = :red, strokewidth = 3)\n",
    "CairoMakie.density!(ax3, vec(chain5[:leaf_long][:,i]), color = (:green, 0.0), strokecolor = :green, strokewidth = 3)\n",
    "vlines!(ax3, [0.24], color=:blue, linewidth=1.5, label=\"\")\n",
    "vlines!(ax3, [0.17], color=:red, linewidth=1.5, label=\"\")\n",
    "vlines!(ax3, [0.64], color=:green, linewidth=1.5, label=\"\")\n",
    "end\n",
    "CairoMakie.xlims!(ax3,-0.0,1.0)\n",
    "CairoMakie.ylims!(ax3,-0.2,8)"
   ]
  },
  {
   "cell_type": "code",
   "execution_count": null,
   "metadata": {},
   "outputs": [],
   "source": [
    "ax4=Axis(fig[4, 1],ylabel=\"rootb_par\")\n",
    "for i=1:1\n",
    "CairoMakie.density!(ax4, vec(chain_site1_prior[:rootb_par]), color = (:blue, 0.0), strokecolor = :black, strokewidth = 3)\n",
    "CairoMakie.density!(ax4, vec(chain1[:rootb_par][:,i]), color = (:blue, 0.0), strokecolor = :blue, strokewidth = 3)\n",
    "CairoMakie.density!(ax4, vec(chain3[:rootb_par][:,i]), color = (:red, 0.0), strokecolor = :red, strokewidth = 3)\n",
    "CairoMakie.density!(ax4, vec(chain5[:rootb_par][:,i]), color = (:green, 0.0), strokecolor = :green, strokewidth = 3)\n",
    "vlines!(ax4, [0.11], color=:blue, linewidth=1.5, label=\"\")\n",
    "vlines!(ax4, [0.07], color=:red, linewidth=1.5, label=\"\")\n",
    "vlines!(ax4, [0.79], color=:green, linewidth=1.5, label=\"\")\n",
    "end\n",
    "CairoMakie.xlims!(ax4,-0.0,1.0)\n",
    "CairoMakie.ylims!(ax4,-2,18)"
   ]
  },
  {
   "cell_type": "code",
   "execution_count": null,
   "metadata": {},
   "outputs": [],
   "source": [
    "@load \"US_Me2_GPP_fluxnet_nobeta0_5000_5_4par_180day.jld2\"  chain1\n",
    "achain1=Array(chain1)\n",
    "@load \"US_Blo_GPP_fluxnet_nobeta0_5000_5_4par_180day.jld2\"  chain3\n",
    "achain3=Array(chain3)\n",
    "@load \"US_NR1_GPP_fluxnet_nobeta0_5000_5_4par_180day.jld2\" chain5\n",
    "achain5=Array(chain5)"
   ]
  },
  {
   "cell_type": "code",
   "execution_count": null,
   "metadata": {},
   "outputs": [],
   "source": [
    "ax7=Axis(fig[1, 2],title=\"fluxnet\")\n",
    "for i=1:1\n",
    "p1=CairoMakie.density!(ax7, vec(chain_site1_prior[:flnr]), color = (:blue, 0.0), strokecolor = :black, strokewidth = 3)\n",
    "p2=CairoMakie.density!(ax7, vec(chain1[:flnr][:,i]), color = (:blue, 0.0), strokecolor = :blue, strokewidth = 3)\n",
    "p3=CairoMakie.density!(ax7, vec(chain3[:flnr][:,i]), color = (:red, 0.0), strokecolor = :red, strokewidth = 3)\n",
    "p4=CairoMakie.density!(ax7, vec(chain5[:flnr][:,i]), color = (:green, 0.0), strokecolor = :green, strokewidth = 3)\n",
    "end\n",
    "CairoMakie.xlims!(ax7,-0.0,1.0)\n",
    "CairoMakie.ylims!(ax7,-2,20)"
   ]
  },
  {
   "cell_type": "code",
   "execution_count": null,
   "metadata": {},
   "outputs": [],
   "source": [
    "ax8=Axis(fig[2, 2])\n",
    "for i=1:1\n",
    "CairoMakie.density!(ax8, vec(chain_site1_prior[:slatop]), color = (:blue, 0.0), strokecolor = :black, strokewidth = 3)\n",
    "CairoMakie.density!(ax8, vec(chain1[:slatop][:,i]), color = (:blue, 0.0), strokecolor = :blue, strokewidth = 3)\n",
    "CairoMakie.density!(ax8, vec(chain3[:slatop][:,i]), color = (:red, 0.0), strokecolor = :red, strokewidth = 3)\n",
    "CairoMakie.density!(ax8, vec(chain5[:slatop][:,i]), color = (:green, 0.0), strokecolor = :green, strokewidth = 3)\n",
    "CairoMakie.xlims!(ax8,-0.0,1.0)\n",
    "CairoMakie.ylims!(ax8,-2,15)\n",
    "end"
   ]
  },
  {
   "cell_type": "code",
   "execution_count": null,
   "metadata": {},
   "outputs": [],
   "source": [
    "ax9=Axis(fig[3, 2])\n",
    "for i=1:1\n",
    "CairoMakie.density!(ax9, vec(chain_site1_prior[:leaf_long]), color = (:blue, 0.0), strokecolor = :black, strokewidth = 3)\n",
    "CairoMakie.density!(ax9, vec(chain1[:leaf_long][:,i]), color = (:blue, 0.0), strokecolor = :blue, strokewidth = 3)\n",
    "CairoMakie.density!(ax9, vec(chain3[:leaf_long][:,i]), color = (:red, 0.0), strokecolor = :red, strokewidth = 3)\n",
    "CairoMakie.density!(ax9, vec(chain5[:leaf_long][:,i]), color = (:green, 0.0), strokecolor = :green, strokewidth = 3)\n",
    "CairoMakie.xlims!(ax9,-0.0,1.0)\n",
    "CairoMakie.ylims!(ax9,-0.2,8)\n",
    "end"
   ]
  },
  {
   "cell_type": "code",
   "execution_count": null,
   "metadata": {},
   "outputs": [],
   "source": [
    "ax10=Axis(fig[4, 2])\n",
    "for i=1:1\n",
    "CairoMakie.density!(ax10, vec(chain_site1_prior[:rootb_par]), color = (:blue, 0.0), strokecolor = :black, strokewidth = 3)\n",
    "CairoMakie.density!(ax10, vec(chain1[:rootb_par][:,i]), color = (:blue, 0.0), strokecolor = :blue, strokewidth = 3)\n",
    "CairoMakie.density!(ax10, vec(chain3[:rootb_par][:,i]), color = (:red, 0.0), strokecolor = :red, strokewidth = 3)\n",
    "CairoMakie.density!(ax10, vec(chain5[:rootb_par][:,i]), color = (:green, 0.0), strokecolor = :green, strokewidth = 3)\n",
    "CairoMakie.xlims!(ax10,-0.0,1.0)\n",
    "CairoMakie.ylims!(ax10,-2,18)\n",
    "end"
   ]
  },
  {
   "cell_type": "code",
   "execution_count": null,
   "metadata": {},
   "outputs": [],
   "source": [
    "fig"
   ]
  },
  {
   "cell_type": "code",
   "execution_count": null,
   "metadata": {},
   "outputs": [],
   "source": [
    "save(\"fig6_3site_be_a_iid_nobeta0_param_PDF_synthetic1_20250224.pdf\",fig)"
   ]
  },
  {
   "cell_type": "code",
   "execution_count": null,
   "metadata": {},
   "outputs": [],
   "source": [
    "@load \"US_Me2_GPP_be_a1_iid_nobeta0_5000_5_4par_180day_3sites_1.jld2\" chain1\n",
    "achain1=Array(chain1)\n",
    "@load \"US_Blo_GPP_be_a3_iid_nobeta0_5000_5_4par_180day_3sites_1.jld2\" chain3\n",
    "achain3=Array(chain3)\n",
    "@load \"US_NR1_GPP_be_a5_iid_nobeta0_5000_5_4par_180day_3sites_1.jld2\" chain5\n",
    "achain5=Array(chain5)"
   ]
  },
  {
   "cell_type": "code",
   "execution_count": null,
   "metadata": {},
   "outputs": [],
   "source": [
    "achain1=Array(chain1[:,:,1])\n",
    "achain3=Array(chain3[:,:,1])\n",
    "achain5=Array(chain5[:,:,1])\n",
    "println(size(achain1))"
   ]
  },
  {
   "cell_type": "code",
   "execution_count": null,
   "metadata": {},
   "outputs": [],
   "source": [
    "plt1=corrplot(achain1[:,1:4],  axis=([], true), color=:blue, title=\" \",titlefontsize=25, ylabel=\"\",fontsize=20, fillcolor=cgrad(), left_margin=2.8mm, label=[\"flnr\",\"slatop\",\"leaf_long\",\"rootb_par\"])"
   ]
  },
  {
   "cell_type": "code",
   "execution_count": null,
   "metadata": {},
   "outputs": [],
   "source": [
    "plt2=corrplot(achain3[:,1:4],  axis=([], true), color=:blue,  title=\" \",titlefontsize=25,fillcolor=cgrad(), left_margin=2.8mm, label=[\"flnr\",\"slatop\",\"leaf_long\",\"rootb_par\"])"
   ]
  },
  {
   "cell_type": "code",
   "execution_count": null,
   "metadata": {},
   "outputs": [],
   "source": [
    "plt3=corrplot(achain5[:,1:4],  axis=([], true), color=:blue,  title=\"\",titlefontsize=25,fillcolor=cgrad(), left_margin=2.8mm, label=[\"flnr\",\"slatop\",\"leaf_long\",\"rootb_par\"])"
   ]
  },
  {
   "cell_type": "code",
   "execution_count": null,
   "metadata": {},
   "outputs": [],
   "source": [
    "@load \"US_Me2_GPP_fluxnet_nobeta0_5000_5_4par_180day.jld2\"  chain1\n",
    "achain1=Array(chain1)\n",
    "@load \"US_Blo_GPP_fluxnet_nobeta0_5000_5_4par_180day.jld2\"  chain3\n",
    "achain3=Array(chain3)\n",
    "@load \"US_NR1_GPP_fluxnet_nobeta0_5000_5_4par_180day.jld2\" chain5\n",
    "achain5=Array(chain5)"
   ]
  },
  {
   "cell_type": "code",
   "execution_count": null,
   "metadata": {},
   "outputs": [],
   "source": [
    "achain1=Array(chain1[:,:,2])\n",
    "achain3=Array(chain3[:,:,2])\n",
    "achain5=Array(chain5[:,:,2])\n",
    "println(size(achain1))"
   ]
  },
  {
   "cell_type": "code",
   "execution_count": null,
   "metadata": {},
   "outputs": [],
   "source": [
    "plt4=corrplot(achain1[:,1:4],  axis=([], true), color=:blue, fillcolor=cgrad(), left_margin=2.8mm, label=[\"flnr\",\"slatop\",\"leaf_long\",\"rootb_par\"])"
   ]
  },
  {
   "cell_type": "code",
   "execution_count": null,
   "metadata": {},
   "outputs": [],
   "source": [
    "plt5=corrplot(achain3[:,1:4],  axis=([], true), color=:blue, fillcolor=cgrad(), left_margin=2.8mm, label=[\"flnr\",\"slatop\",\"leaf_long\",\"rootb_par\"])"
   ]
  },
  {
   "cell_type": "code",
   "execution_count": null,
   "metadata": {},
   "outputs": [],
   "source": [
    "plt6=corrplot(achain5[:,1:4],  axis=([], true), color=:blue, fillcolor=cgrad(), left_margin=2.8mm, label=[\"flnr\",\"slatop\",\"leaf_long\",\"rootb_par\"])"
   ]
  },
  {
   "cell_type": "code",
   "execution_count": null,
   "metadata": {},
   "outputs": [],
   "source": [
    "plt=plot(plt1,plt2,plt3,plt4,plt5,plt6,layout=(2,3),left_margin=10mm,bottom_margin=5mm,size=(1400, 800))"
   ]
  },
  {
   "cell_type": "code",
   "execution_count": null,
   "metadata": {},
   "outputs": [],
   "source": [
    "savefig(plt,\"figS3_pairplots_4par_180day_4_4_20250224.pdf\")"
   ]
  },
  {
   "cell_type": "markdown",
   "metadata": {},
   "source": [
    "## Posterior predictions / observing system simulation experiments (OSSEs)"
   ]
  },
  {
   "cell_type": "markdown",
   "metadata": {},
   "source": [
    "OSSE parameter sampling from posterior distributions"
   ]
  },
  {
   "cell_type": "code",
   "execution_count": null,
   "metadata": {},
   "outputs": [],
   "source": [
    "N_samp0 = 1000"
   ]
  },
  {
   "cell_type": "code",
   "execution_count": null,
   "metadata": {},
   "outputs": [],
   "source": [
    "@load \"US_Me2_GPP_be_a1_iid_nobeta0_5000_5_4par_180day_3sites_1.jld2\" chain1\n",
    "achain1=Array(chain1)\n",
    "@load \"US_Blo_GPP_be_a3_iid_nobeta0_5000_5_4par_180day_3sites_1.jld2\" chain3\n",
    "achain3=Array(chain3)\n",
    "@load \"US_NR1_GPP_be_a5_iid_nobeta0_5000_5_4par_180day_3sites_1.jld2\" chain5\n",
    "achain5=Array(chain5)"
   ]
  },
  {
   "cell_type": "code",
   "execution_count": null,
   "metadata": {},
   "outputs": [],
   "source": [
    "p_samp1 = achain1[Turing.sample(1:size(achain1,1), N_samp0),:]\n",
    "p_samp3 = achain3[Turing.sample(1:size(achain1,1), N_samp0),:]\n",
    "p_samp5 = achain5[Turing.sample(1:size(achain1,1), N_samp0),:]"
   ]
  },
  {
   "cell_type": "code",
   "execution_count": null,
   "metadata": {},
   "outputs": [],
   "source": [
    "function sample_observation(sample, model,N_PCA)  \n",
    "    σ = sample[6] \n",
    "    β_1=sample[5]\n",
    "   # β_0=sample[5]\n",
    "    p = sample[1:4]\n",
    "    θ = reshape(p, 1, length(p))\n",
    "    m = model_1(θ,N_PCA)\n",
    "    err=a1*randn(length(m))\n",
    "    y = β_1*m +err\n",
    "end"
   ]
  },
  {
   "cell_type": "code",
   "execution_count": null,
   "metadata": {},
   "outputs": [],
   "source": [
    "function simulate_observations(N, samples, model,N_PCA)\n",
    "    N_samp = size(samples,1)\n",
    "    y_sim = zeros(N, N_samp)\n",
    "    @threads for i = 1:N_samp\n",
    "       y_sim[:,i] .= sample_observation(samples[i,:], model,N_PCA)\n",
    "    end\n",
    "    y_sim\n",
    "end"
   ]
  },
  {
   "cell_type": "code",
   "execution_count": null,
   "metadata": {},
   "outputs": [],
   "source": [
    "using Statistics\n",
    "using Distributions\n",
    "\n",
    "# Define the function to calculate the 95% confidence interval\n",
    "function confidence_interval(data::Vector{Float64}, confidence_level::Float64=0.05)\n",
    "    # Sample mean\n",
    "    mean_value = mean(data)\n",
    "\n",
    "    # Sample standard deviation\n",
    "    std_dev = std(data)\n",
    "\n",
    "    # Sample size\n",
    "    n = length(data)\n",
    "\n",
    "    # Standard error of the mean\n",
    "    sem = std_dev / sqrt(n)\n",
    "\n",
    "    # For the specified confidence interval, the critical value from the t-distribution\n",
    "    # Degrees of freedom: n - 1\n",
    "    df = n - 1\n",
    "    alpha = 1 - confidence_level\n",
    "    t_critical = quantile(TDist(df), 1 - alpha / 2)\n",
    "\n",
    "    # Margin of error\n",
    "    margin_of_error = t_critical * sem\n",
    "\n",
    "    # Confidence interval\n",
    "    lower_bound = quantile(data,0.025)\n",
    "    upper_bound = quantile(data,0.975)\n",
    "    \n",
    "    return (lower_bound, upper_bound)\n",
    "end"
   ]
  },
  {
   "cell_type": "code",
   "execution_count": null,
   "metadata": {},
   "outputs": [],
   "source": [
    "# Define a function to calculate RMSE\n",
    "function rmse(actual, predicted)\n",
    "    n = length(actual)\n",
    "    sqrt(sum((actual .- predicted).^2) / n)\n",
    "end"
   ]
  },
  {
   "cell_type": "code",
   "execution_count": null,
   "metadata": {},
   "outputs": [],
   "source": [
    "# Define a function to calculate RMSE, NRMSE, and PRMSE\n",
    "function rmse(actual, predicted; method=\"percentage\")\n",
    "    n = length(actual)\n",
    "    rmse_value = sqrt(sum((actual .- predicted).^2) / n)\n",
    "\n",
    "    if method == \"range\"\n",
    "        # Normalized by range (max - min)\n",
    "        norm_rmse = rmse_value / (maximum(actual) - minimum(actual))\n",
    "    elseif method == \"percentage\"\n",
    "        # Normalized by mean (percentage RMSE)\n",
    "        norm_rmse = (rmse_value / mean(actual)) \n",
    "    else\n",
    "        error(\"Invalid method. Choose 'range' or 'percentage'.\")\n",
    "    end\n",
    "\n",
    "    return norm_rmse\n",
    "end"
   ]
  },
  {
   "cell_type": "markdown",
   "metadata": {},
   "source": [
    "OSSE prediction at the same site"
   ]
  },
  {
   "cell_type": "code",
   "execution_count": null,
   "metadata": {},
   "outputs": [],
   "source": [
    "ELM_Me2 = Dataset(\"US_Me2_GPP_g0001_g1300_2003_2007_res05.nc\")\n",
    "t = ELM_Me2[\"time\"]\n",
    "time1=year.(t)+dayofyear.(t)/365;"
   ]
  },
  {
   "cell_type": "code",
   "execution_count": null,
   "metadata": {},
   "outputs": [],
   "source": [
    "using CairoMakie"
   ]
  },
  {
   "cell_type": "code",
   "execution_count": null,
   "metadata": {},
   "outputs": [],
   "source": [
    "fig = Figure(size= (900, 600));"
   ]
  },
  {
   "cell_type": "code",
   "execution_count": null,
   "metadata": {},
   "outputs": [],
   "source": [
    "function sample_observation(sample, model,N_PCA)  \n",
    "    σ = sample[6] \n",
    "    β_1=sample[5]\n",
    "   # β_0=sample[5]\n",
    "    p = sample[1:4]\n",
    "    θ = reshape(p, 1, length(p))\n",
    "    m = model_1(θ,N_PCA)\n",
    "   # err=σ^2*randn(length(m))\n",
    "    err=a1*randn(length(m))\n",
    "    #y = β_0.+β_1*m +err\n",
    "    y = β_1*m +err\n",
    "    #y=err\n",
    "end"
   ]
  },
  {
   "cell_type": "code",
   "execution_count": null,
   "metadata": {},
   "outputs": [],
   "source": [
    "# Simulate observations\n",
    "y_sim_1_1 = simulate_observations(180, p_samp1, model_1, 12)\n",
    "y_sim_1_1_m = mean(y_sim_1_1, dims=2)\n",
    "ci = zeros(Float64, 180, 2)\n",
    "for i = 1:size(y_sim_1_1, 1)\n",
    "    ci[i, :] .= confidence_interval(y_sim_1_1[i, :])\n",
    "end\n",
    "\n",
    "xvalues = [2004, 2006, 2008]\n",
    "xlabels = [\"\", \"\", \"\"]\n",
    "\n",
    "# Create figure and axis\n",
    "#l = fig[1, 1] = GridLayout()\n",
    "ax1 = Axis(fig[1, 1], xlabel = \"\", ylabel = \"US-Me2\",title=\"US-Me2\",xticks=(xvalues, xlabels))\n",
    "CairoMakie.ylims!(ax1, -5, 15)\n",
    "\n",
    "# Add shaded area\n",
    "p2=band!(ax1, time1[15:10:1805], ci[:, 1], ci[:, 2], color = (:pink, 1))\n",
    "# Add mean line\n",
    "p4=lines!(ax1, time1[15:10:1805], GPP_01_be, color = :blue, linewidth = 4, label = \"BE+noise\")\n",
    "p3=lines!(ax1, time1[15:10:1805],vec(y_sim_1_1_m), color = :red, linewidth = 2, label = \"mean\")\n",
    "# Add scatter plots\n",
    "rmse_value = rmse(GPP_01_be, y_sim_1_1_m)\n",
    "text!(ax1, 2003, 13, text= string(\"NRMSE=\",round(rmse_value, digits=2)), align = (:left, :center))\n",
    "\n",
    "legend=Legend(fig,[p2,p3,p4], [\"95% interval\",\"mean\",\"best estimate\"],tellheight = false, halign =:left, valign =:top, orientation = :horizontal, framevisible = false)\n",
    "\n",
    "fig[4,2] = legend\n",
    "legend.width = Relative(1.2)\n",
    "fig[1,1]=ax1\n"
   ]
  },
  {
   "cell_type": "code",
   "execution_count": null,
   "metadata": {},
   "outputs": [],
   "source": [
    "# Simulate observations\n",
    "y_sim_1_1 = simulate_observations(180, p_samp3, model_1, 12)\n",
    "y_sim_1_1_m = mean(y_sim_1_1, dims=2)\n",
    "ci = zeros(Float64, 180, 2)\n",
    "for i = 1:size(y_sim_1_1, 1)\n",
    "    ci[i, :] .= confidence_interval(y_sim_1_1[i, :])\n",
    "end\n",
    "\n",
    "xvalues = [2004, 2006, 2008]\n",
    "xlabels = [\"\", \"\", \"\"]\n",
    "\n",
    "# Create figure and axis\n",
    "\n",
    "ax2 = Axis(fig[2, 1], xlabel = \"\", ylabel = \"US-Blo\", title = \"\",xticks=(xvalues, xlabels))\n",
    "CairoMakie.ylims!(ax2, -5, 15)\n",
    "\n",
    "# Add shaded area\n",
    "band!(ax2, time1[15:10:1805], ci[:, 1], ci[:, 2],  color = (:pink,1))\n",
    "# Add mean line\n",
    "lines!(ax2, time1[15:10:1805], GPP_01_be, color = :blue, linewidth = 4, label = \"BE+noise\")\n",
    "lines!(ax2, time1[15:10:1805],vec(y_sim_1_1_m), color = :red, linewidth = 2, label = \"mean\")\n",
    "rmse_value = rmse(GPP_01_be, y_sim_1_1_m)\n",
    "text!(ax2, 2003, 13, text= string(\"NRMSE=\",round(rmse_value, digits=2)), align = (:left, :center))\n",
    "fig[2,1]=ax2\n"
   ]
  },
  {
   "cell_type": "code",
   "execution_count": null,
   "metadata": {},
   "outputs": [],
   "source": [
    "# Simulate observations\n",
    "y_sim_1_1 = simulate_observations(180, p_samp5, model_1, 12)\n",
    "y_sim_1_1_m = mean(y_sim_1_1, dims=2)\n",
    "ci = zeros(Float64, 180, 2)\n",
    "for i = 1:size(y_sim_1_1, 1)\n",
    "    ci[i, :] .= confidence_interval(y_sim_1_1[i, :])\n",
    "end\n",
    "\n",
    "xvalues = [2004, 2006, 2008]\n",
    "xlabels = [\"\", \"\", \"\"]\n",
    "\n",
    "# Create figure and axis\n",
    "\n",
    "ax3 = Axis(fig[3, 1], xlabel = \"year\", ylabel = \"US-NR1\", title = \"\")\n",
    "CairoMakie.ylims!(ax3, -5, 15)\n",
    "\n",
    "# Add shaded area\n",
    "band!(ax3, time1[15:10:1805], ci[:, 1], ci[:, 2],  color = (:pink, 1))\n",
    "# Add mean line\n",
    "lines!(ax3, time1[15:10:1805], GPP_01_be, color = :blue, linewidth = 4, label = \"BE+noise\")\n",
    "lines!(ax3, time1[15:10:1805],vec(y_sim_1_1_m), color = :red, linewidth = 2, label = \"mean\")\n",
    "rmse_value = rmse(GPP_01_be, y_sim_1_1_m)\n",
    "text!(ax3, 2003, 13, text= string(\"NRMSE=\",round(rmse_value, digits=2)), align = (:left, :center))\n",
    "fig[3,1]=ax3\n"
   ]
  },
  {
   "cell_type": "code",
   "execution_count": null,
   "metadata": {},
   "outputs": [],
   "source": [
    "function sample_observation(sample, model,N_PCA)  \n",
    "    σ = sample[6] \n",
    "    β_1=sample[5]\n",
    "   # β_0=sample[5]\n",
    "    p = sample[1:4]\n",
    "    θ = reshape(p, 1, length(p))\n",
    "    m = model_3(θ,N_PCA)\n",
    "    err=a3*randn(length(m))\n",
    "    y = β_1*m +err\n",
    "end"
   ]
  },
  {
   "cell_type": "code",
   "execution_count": null,
   "metadata": {},
   "outputs": [],
   "source": [
    "# Simulate observations\n",
    "y_sim_1_3 = simulate_observations(180, p_samp1, model_3, 12)\n",
    "y_sim_1_3_m = mean(y_sim_1_3, dims=2)\n",
    "ci = zeros(Float64, 180, 2)\n",
    "for i = 1:size(y_sim_1_1, 1)\n",
    "    ci[i, :] .= confidence_interval(y_sim_1_3[i, :])\n",
    "end\n",
    "# Create figure and axis\n",
    "xvalues = [2004, 2006, 2008]\n",
    "xlabels = [\"\", \"\", \"\"]\n",
    "\n",
    "ax4 = Axis(fig[1, 2], xlabel = \"\", ylabel = \"\", title = \"US-Blo\",xticks=(xvalues, xlabels))\n",
    "CairoMakie.ylims!(ax4, -5, 15)\n",
    "\n",
    "# Add shaded area\n",
    "band!(ax4, time1[15:10:1805], ci[:, 1], ci[:, 2], color = (:pink,1))\n",
    "# Add mean line\n",
    "lines!(ax4, time1[15:10:1805], GPP_03_be, color = :blue, linewidth = 4, label = \"BE+noise\")\n",
    "lines!(ax4, time1[15:10:1805],vec(y_sim_1_3_m), color = :red, linewidth =2, label = \"mean\")\n",
    "rmse_value = rmse(GPP_03_be, y_sim_1_1_m)\n",
    "text!(ax4, 2003, 13, text= string(\"NRMSE=\",round(rmse_value, digits=2)), align = (:left, :center))\n",
    "fig[1,2]=ax4\n"
   ]
  },
  {
   "cell_type": "code",
   "execution_count": null,
   "metadata": {},
   "outputs": [],
   "source": [
    "# Simulate observations\n",
    "y_sim_1_1 = simulate_observations(180, p_samp3, model_3, 12)\n",
    "y_sim_1_1_m = mean(y_sim_1_1, dims=2)\n",
    "ci = zeros(Float64, 180, 2)\n",
    "for i = 1:size(y_sim_1_1, 1)\n",
    "    ci[i, :] .= confidence_interval(y_sim_1_1[i, :])\n",
    "end\n",
    "\n",
    "xvalues = [2004, 2006, 2008]\n",
    "xlabels = [\"\", \"\", \"\"]\n",
    "\n",
    "# Create figure and axis\n",
    "\n",
    "ax5 = Axis(fig[2, 2], xlabel = \"\", ylabel = \"\", title=\"\",xticks=(xvalues, xlabels))\n",
    "CairoMakie.ylims!(ax5, -5, 15)\n",
    "\n",
    "# Add shaded area\n",
    "band!(ax5, time1[15:10:1805], ci[:, 1], ci[:, 2],  color = (:pink,1))\n",
    "# Add mean line\n",
    "lines!(ax5, time1[15:10:1805], GPP_03_be, color = :blue, linewidth = 4, label = \"BE+noise\")\n",
    "lines!(ax5, time1[15:10:1805],vec(y_sim_1_1_m), color = :red, linewidth =2, label = \"mean\")\n",
    "rmse_value = rmse(GPP_03_be, y_sim_1_1_m)\n",
    "text!(ax5, 2003, 13, text= string(\"NRMSE=\",round(rmse_value, digits=2)), align = (:left, :center))\n",
    "fig[2,2]=ax5"
   ]
  },
  {
   "cell_type": "code",
   "execution_count": null,
   "metadata": {},
   "outputs": [],
   "source": [
    "y_sim_1_1 = simulate_observations(180, p_samp5, model_3, 12)\n",
    "y_sim_1_1_m = mean(y_sim_1_1, dims=2)\n",
    "ci = zeros(Float64, 180, 2)\n",
    "for i = 1:size(y_sim_1_1, 1)\n",
    "    ci[i, :] .= confidence_interval(y_sim_1_1[i, :])\n",
    "end\n",
    "\n",
    "xvalues = [2004, 2006, 2008]\n",
    "xlabels = [\"\", \"\", \"\"]\n",
    "\n",
    "# Create figure and axis\n",
    "\n",
    "ax6= Axis(fig[3, 2], xlabel =  \"year\", ylabel = \"\", title = \"\")\n",
    "CairoMakie.ylims!(ax6, -5, 15)\n",
    "\n",
    "# Add shaded area\n",
    "band!(ax6, time1[15:10:1805], ci[:, 1], ci[:, 2], color = (:pink,1))\n",
    "# Add mean line\n",
    "lines!(ax6, time1[15:10:1805], GPP_03_be, color = :blue, linewidth = 4, label = \"BE+noise\")\n",
    "lines!(ax6, time1[15:10:1805],vec(y_sim_1_1_m), color = :red, linewidth =2, label = \"mean\")\n",
    "rmse_value = rmse(GPP_03_be, y_sim_1_1_m)\n",
    "text!(ax6, 2003, 13, text= string(\"NRMSE=\",round(rmse_value, digits=2)), align = (:left, :center))\n",
    "fig[3,2]=ax6\n"
   ]
  },
  {
   "cell_type": "code",
   "execution_count": null,
   "metadata": {},
   "outputs": [],
   "source": [
    "function sample_observation(sample, model,N_PCA)  \n",
    "    σ = sample[6] \n",
    "    β_1=sample[5]\n",
    "    β_0=sample[5]\n",
    "    p = sample[1:4]\n",
    "    θ = reshape(p, 1, length(p))\n",
    "    m = model_5(θ,N_PCA)\n",
    "    err=a5*randn(length(m))\n",
    "    y = β_1*m +err\n",
    "end"
   ]
  },
  {
   "cell_type": "code",
   "execution_count": null,
   "metadata": {},
   "outputs": [],
   "source": [
    "# Simulate observations\n",
    "y_sim_1_5 = simulate_observations(180, p_samp1, model_5, 12)\n",
    "y_sim_1_5_m = mean(y_sim_1_5, dims=2)\n",
    "ci = zeros(Float64, 180, 2)\n",
    "for i = 1:size(y_sim_1_1, 1)\n",
    "    ci[i, :] .= confidence_interval(y_sim_1_5[i, :])\n",
    "end\n",
    "xvalues = [2004, 2006, 2008]\n",
    "xlabels = [\"\", \"\", \"\"]\n",
    "\n",
    "# Create figure and axis\n",
    "\n",
    "ax7 = Axis(fig[1,3], xlabel = \"\", ylabel = \"\", title = \"US-NR1\",xticks=(xvalues, xlabels))\n",
    "CairoMakie.ylims!(ax7, -5, 15)\n",
    "# Add plots\n",
    "#lines!(ax7, time1[15:10:1805], ci[:, 1], color = :blue, linewidth = 2, label = \"2.5% bound\")\n",
    "#lines!(ax7, time1[15:10:1805], ci[:, 2], color = :cyan, linewidth = 2, label = \"97.5% bound\")\n",
    "\n",
    "# Add shaded area\n",
    "band!(ax7, time1[15:10:1805], ci[:, 1], ci[:, 2],  color = (:pink, 1))\n",
    "# Add mean line\n",
    "lines!(ax7, time1[15:10:1805], GPP_05_be, color =  :blue, linewidth = 4, label = \"BE+noise\")\n",
    "lines!(ax7, time1[15:10:1805],vec(y_sim_1_5_m), color = :red, linewidth = 2, label = \"mean\")\n",
    "rmse_value = rmse(GPP_05_be, y_sim_1_1_m)\n",
    "text!(ax7, 2003, 13, text= string(\"NRMSE=\",round(rmse_value, digits=2)), align = (:left, :center))\n",
    "\n",
    "#GLMakie.scatter!(ax7, time1[15:10:1805], GPP_05,markersize=4, color = :green, label = \"\")\n",
    "fig[1,3]=ax7\n",
    "#Label(fig[1,1], \"GPP\", fontsize=18, padding=(0, 790, 590, 0))"
   ]
  },
  {
   "cell_type": "code",
   "execution_count": null,
   "metadata": {},
   "outputs": [],
   "source": [
    "# Simulate observations\n",
    "y_sim_1_1 = simulate_observations(180, p_samp3, model_5, 12)\n",
    "y_sim_1_1_m = mean(y_sim_1_1, dims=2)\n",
    "ci = zeros(Float64, 180, 2)\n",
    "for i = 1:size(y_sim_1_1, 1)\n",
    "    ci[i, :] .= confidence_interval(y_sim_1_1[i, :])\n",
    "end\n",
    "\n",
    "xvalues = [2004, 2006, 2008]\n",
    "xlabels = [\"\", \"\", \"\"]\n",
    "\n",
    "# Create figure and axis\n",
    "\n",
    "ax8 = Axis(fig[2,3], xlabel = \"\", ylabel = \"\", title = \"\",xticks=(xvalues, xlabels))\n",
    "CairoMakie.ylims!(ax8, -5, 15)\n",
    "\n",
    "# Add plots\n",
    "#lines!(ax8, time1[15:10:1805], ci[:, 1], color = :blue, linewidth = 2, label = \"2.5% bound\")\n",
    "#lines!(ax8, time1[15:10:1805], ci[:, 2], color = :cyan, linewidth = 2, label = \"97.5% bound\")\n",
    "\n",
    "# Add shaded area\n",
    "band!(ax8, time1[15:10:1805], ci[:, 1], ci[:, 2],  color = (:pink, 1))\n",
    "# Add mean line\n",
    "lines!(ax8, time1[15:10:1805], GPP_05_be, color = :blue, linewidth = 4, label = \"BE+noise\")\n",
    "lines!(ax8, time1[15:10:1805],vec(y_sim_1_1_m), color = :red, linewidth = 2, label = \"mean\")\n",
    "rmse_value = rmse(GPP_05_be, y_sim_1_1_m)\n",
    "text!(ax8, 2003, 13, text= string(\"NRMSE=\",round(rmse_value, digits=2)), align = (:left, :center))\n",
    "\n",
    "#GLMakie.scatter!(ax8, time1[15:10:1805], GPP_05,markersize=4, color = :green, label = \"\")\n",
    "fig[2,3]=ax8"
   ]
  },
  {
   "cell_type": "code",
   "execution_count": null,
   "metadata": {},
   "outputs": [],
   "source": [
    "# Simulate observations\n",
    "y_sim_1_1 = simulate_observations(180, p_samp5, model_5, 12)\n",
    "y_sim_1_1_m = mean(y_sim_1_1, dims=2)\n",
    "ci = zeros(Float64, 180, 2)\n",
    "for i = 1:size(y_sim_1_1, 1)\n",
    "    ci[i, :] .= confidence_interval(y_sim_1_1[i, :])\n",
    "end\n",
    "\n",
    "xvalues = [2004, 2006, 2008]\n",
    "xlabels = [\"\", \"\", \"\"]\n",
    "\n",
    "# Create figure and axis\n",
    "\n",
    "ax9 = Axis(fig[3, 3], xlabel = \"year\", ylabel = \"\",title=\"\")\n",
    "CairoMakie.ylims!(ax9, -5, 15)\n",
    "# Add plots\n",
    "#lines!(ax9, time1[15:10:1805], ci[:, 1], color = :blue, linewidth = 2, label = \"2.5% bound\")\n",
    "#lines!(ax9, time1[15:10:1805], ci[:, 2], color = :cyan, linewidth = 2, label = \"97.5% bound\")\n",
    "\n",
    "# Add shaded area\n",
    "band!(ax9, time1[15:10:1805], ci[:, 1], ci[:, 2],  color = (:pink,1))\n",
    "# Add mean line\n",
    "lines!(ax9, time1[15:10:1805], GPP_05_be, color = :blue, linewidth = 4, label = \"BE+noise\")\n",
    "lines!(ax9, time1[15:10:1805],vec(y_sim_1_1_m), color = :red, linewidth = 2, label = \"mean\")\n",
    "rmse_value = rmse(GPP_05_be, y_sim_1_1_m)\n",
    "text!(ax9, 2003, 13, text= string(\"NRMSE=\",round(rmse_value, digits=2)), align = (:left, :center))\n",
    "\n",
    "#GLMakie.scatter!(ax9, time1[15:10:1805], GPP_05,markersize=4, color = :green, label = \"\")\n",
    "fig[3,3]=ax9\n",
    "#Label(fig[1,1], \"GPP\", fontsize=18, padding=(0, 790, 590, 0))"
   ]
  },
  {
   "cell_type": "code",
   "execution_count": null,
   "metadata": {},
   "outputs": [],
   "source": [
    "Label(fig[1,2,Top()], \"GPP at Predicted Sites (GP emulator)\", fontsize=20, padding=(4, 4, 30, 4))\n",
    "Label(fig[2,1,Left()], \"Calibrated Sites (parameters)\", rotation=π/2, fontsize=20, padding=(4, 60, 4, 4))\n",
    "fig"
   ]
  },
  {
   "cell_type": "code",
   "execution_count": null,
   "metadata": {},
   "outputs": [],
   "source": [
    "save(\"figS6_site_3_3_beiid_nobeta0_3_20250224.pdf\",fig)"
   ]
  },
  {
   "cell_type": "code",
   "execution_count": null,
   "metadata": {},
   "outputs": [],
   "source": []
  }
 ],
 "metadata": {
  "kernelspec": {
   "display_name": "Julia 1.11.0-rc2",
   "language": "julia",
   "name": "julia-1.11"
  },
  "language_info": {
   "file_extension": ".jl",
   "mimetype": "application/julia",
   "name": "julia",
   "version": "1.11.0"
  }
 },
 "nbformat": 4,
 "nbformat_minor": 4
}
