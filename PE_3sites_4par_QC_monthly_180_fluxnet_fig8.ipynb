{
 "cells": [
  {
   "cell_type": "markdown",
   "metadata": {},
   "source": [
    "## Module Imports"
   ]
  },
  {
   "cell_type": "code",
   "execution_count": null,
   "metadata": {},
   "outputs": [],
   "source": [
    "include(\"emulation_functions.jl\")\n",
    "using BenchmarkTools\n",
    "using CSV\n",
    "using JLD2\n",
    "using Dates\n",
    "using MultivariateStats\n",
    "import MultivariateStats: reconstruct\n",
    "using GaussianProcesses\n",
    "using NCDatasets\n",
    "using DataFrames\n",
    "using ForwardDiff\n",
    "using LinearAlgebra\n",
    "using NamedArrays\n",
    "using Plots\n",
    "using Plots.PlotMeasures\n",
    "using Optimization\n",
    "using OptimizationOptimJL\n",
    "using Statistics\n",
    "using StatsPlots\n",
    "using Distributions\n",
    "using Turing\n",
    "using .Threads"
   ]
  },
  {
   "cell_type": "markdown",
   "metadata": {},
   "source": [
    "## Set File Directory\n",
    "Set the `directory_of_files` variable below to the path leading to your folder containing all the data and emulator files."
   ]
  },
  {
   "cell_type": "code",
   "execution_count": null,
   "metadata": {},
   "outputs": [],
   "source": [
    "# directory where all files are located. If it is this working directory, set this to \"./\"\n",
    "directory_of_files = \"./\"; \n",
    "p_names = (:flnr,:slatop,:dleaf,:dsladlai,:leaf_long,:s_vc,:bbbopt,:mbbopt,:smpsc,:smpso,:rholvis,:rholnir,:taulvis,:taulnir,:rhosvis,:rhosnir,:xl,:displar,:z0mr,:vcmaxha,:vcmaxhd,:jmaxha,:jmaxhd,:roota_par,:rootb_par,:grperc)\n",
    "p_names_dis = (:flnr,:slatop,:leaf_long, :rootb_par)\n",
    "\n",
    "D = length(p_names_dis)"
   ]
  },
  {
   "cell_type": "markdown",
   "metadata": {},
   "source": [
    "## Load data "
   ]
  },
  {
   "cell_type": "code",
   "execution_count": null,
   "metadata": {},
   "outputs": [],
   "source": [
    "# Dictionaries to make this all neater\n",
    "output_var_header_names = Dict{String, String}(\"GPP\" => \"GPP_NT_VUT_REF\", \n",
    "                                               \"NEE\" => \"NEE_VUT_REF\", \n",
    "                                               \"LH\" => \"LE_F_MDS\", \n",
    "                                               \"SH\" => \"H_F_MDS\")\n",
    "site_names = Dict{String, String}(\"US_Me2\" => \"fluxnet_US_Me2_2003_2007\", \n",
    "                                  \"US_Dk3\" => \"fluxnet_US_Dk3_2003_2007\",\n",
    "                                  \"CA_TP4\" => \"fluxnet_CA_TP4_2003_2007\",\n",
    "                                  \"US_Blo\" => \"fluxnet_US_Blo_2003_2007\",\n",
    "    );"
   ]
  },
  {
   "cell_type": "markdown",
   "metadata": {},
   "source": [
    "## Load default parameters"
   ]
  },
  {
   "cell_type": "code",
   "execution_count": null,
   "metadata": {},
   "outputs": [],
   "source": [
    "p_default=[0.0509,0.01,0.04,0.0006,1.5,20.72,10000,9,-255000,-66000,0.07,0.35,0.05,0.1,0.16,0.39,0.01,0.67,0.055,72000,200000,50000,200000,3,1.25,0.3]\n",
    "elements = [\"flnr\",\"slatop\",\"dleaf\",\"dsladlai\",\"leaf_long\",\"s_vc\",\"bbbopt\",\"mbbopt\",\"smpsc\",\"smpso\",\"rholvis\",\"rholnir\",\"taulvis\",\n",
    "            \"taulnir\",\"rhosvis\",\"rhosnir\",\"xl\",\"displar\",\"z0mr\",\"vcmaxha\",\"vcmaxhd\",\"jmaxha\",\"jmaxhd\",\"roota_par\",\"rootb_par\",\"grperc\"]\n",
    "p_hard = (  flnr =      [0.04, 0.3],                         \n",
    "            slatop =    [0.003, 0.03],\n",
    "            dleaf =     [0.03, 0.3],\n",
    "            dsladlai =  [0.0002, 0.0035],\n",
    "            leaf_long = [1.0, 12.0],\n",
    "            s_vc =      [16.0,32.0],\n",
    "            bbbopt =    [16000.0,60000.0],\n",
    "            mbbopt =    [4.5, 15],\n",
    "            smpsc =     [-642000.0, -125000.0],\n",
    "            smpso =     [-125000.0, -17500.0],\n",
    "            rholvis =   [0.025, 0.25],\n",
    "            rholnir =   [0.25,0.55],\n",
    "            taulvis =   [0.005,0.20],\n",
    "            taulnir =   [0.15,0.45],\n",
    "            rhosvis =   [0.05,0.30],\n",
    "            rhosnir =   [0.20,0.75],\n",
    "            xl =        [-0.5,0.375],\n",
    "            displar =   [0.6,0.85],\n",
    "            z0mr =      [0.04,0.09],\n",
    "            vcmaxha =   [45000.0,90000.0],\n",
    "            vcmaxhd =   [198000.0, 202000.0],\n",
    "            jmaxha =    [30000.0,65000.0],\n",
    "            jmaxhd =    [198000.0, 202000.0],\n",
    "            roota_par = [2.0,18.0],\n",
    "            rootb_par = [0.5,6.0],\n",
    "            grperc =    [0.125,0.375] );\n",
    "\n",
    "p_hard = [getproperty(p_hard, pn) for pn in propertynames(p_hard)];\n",
    "p_hard_l = mapreduce(permutedims, vcat, p_hard)[:, 1];\n",
    "p_hard_u = mapreduce(permutedims, vcat, p_hard)[:, 2];\n",
    "p_norm = (p_default.- p_hard_l) ./ (p_hard_u .- p_hard_l)"
   ]
  },
  {
   "cell_type": "markdown",
   "metadata": {},
   "source": [
    "## NOTE: \n",
    "#### `output_of_interest`\n",
    "+ \"GPP\"\n",
    "+ \"NEE\"\n",
    "+ \"LH\"\n",
    "+ \"SH\"\n"
   ]
  },
  {
   "cell_type": "code",
   "execution_count": null,
   "metadata": {},
   "outputs": [],
   "source": [
    "# == SPECIFY THESE PARAMETERS TO SELECT OUTPUT VAR, SITE EMULATOR, AND CALIBRATION SITE OF INTEREST ===\n",
    "c_site1_to_calibrate_to = \"US_Me2\"\n",
    "c_site2_to_calibrate_to = \"US_Dk3\"\n",
    "c_site3_to_calibrate_to = \"US_Blo\"\n",
    "c_site4_to_calibrate_to = \"CA_TP4\"\n",
    "c_site5_to_calibrate_to = \"US_NR1\"\n",
    "c_site6_to_calibrate_to = \"CA_Qfo\"\n",
    "c_site7_to_calibrate_to = \"CA_Obs\"\n",
    "c_site8_to_calibrate_to = \"CA_TP1\"\n",
    "c_site9_to_calibrate_to = \"CA_TP2\"\n",
    "c_site10_to_calibrate_to = \"CA_TP3\"\n",
    "\n",
    "t_site1_to_predict_to = \"CA_Qfo\"\n",
    "output_of_interest = \"GPP\"\n"
   ]
  },
  {
   "cell_type": "code",
   "execution_count": null,
   "metadata": {},
   "outputs": [],
   "source": [
    "#site =  site_names[site_to_calibrate_to]\n",
    "output = output_var_header_names[output_of_interest]\n",
    "begin_date = \"2003\" # Begin date of fluxnet data file (in case this changes in the future)\n",
    "end_date = \"2007\" # End data of fluxnet data file (in case this changes in the future)"
   ]
  },
  {
   "cell_type": "code",
   "execution_count": null,
   "metadata": {},
   "outputs": [],
   "source": [
    "function calculate_10day_average(data0)\n",
    "    num_years = 5  \n",
    "    monthday=[10, 10,11,10,10,8,10,10,11,10,10,10,10,10,11,10,10,10,10,10,11,10,10,11,10,10,10,10,10,11,10,10,10,10,10,11];\n",
    "    monthly_average = Vector{Float64}()\n",
    "    end_day=0\n",
    "    for year in 1:num_years\n",
    "        start_day=end_day+1\n",
    "        for month in 1:36\n",
    "            end_day = start_day + monthday[month]-1\n",
    "            temp=mean(filter(!isnan,data0[start_day:end_day,:]), dims=1)\n",
    "            push!(monthly_average,temp[1])\n",
    "            start_day=end_day+1\n",
    "        end\n",
    "    end\n",
    "    println(typeof(monthly_average))\n",
    "    println(size(monthly_average))\n",
    "    return monthly_average\n",
    "end"
   ]
  },
  {
   "cell_type": "code",
   "execution_count": null,
   "metadata": {},
   "outputs": [],
   "source": [
    "data = CSV.read(\"$(directory_of_files)/fluxnet_$(c_site1_to_calibrate_to)_$(begin_date)_$(end_date)_QC.txt\", DataFrame, header=1, delim=\",\")\n",
    "y_site1 = Array(data[!, output])\n",
    "id_1=findall(y_site1.<0)\n",
    "y_site1[id_1].=0\n",
    "data = CSV.read(\"$(directory_of_files)/fluxnet_$(c_site2_to_calibrate_to)_$(begin_date)_$(end_date)_QC.txt\", DataFrame, header=1, delim=\",\")\n",
    "y_site2 = Array(data[!, output])\n",
    "id_2=findall(y_site2.<0)\n",
    "y_site2[id_2].=0\n",
    "data = CSV.read(\"$(directory_of_files)/fluxnet_$(c_site3_to_calibrate_to)_$(begin_date)_$(end_date)_QC.txt\", DataFrame, header=1, delim=\",\")\n",
    "y_site3 = Array(data[!, output])\n",
    "id_3=findall(y_site3.<0)\n",
    "y_site3[id_3].=0\n",
    "data = CSV.read(\"$(directory_of_files)/fluxnet_$(c_site4_to_calibrate_to)_$(begin_date)_$(end_date)_QC.txt\", DataFrame, header=1, delim=\",\")\n",
    "y_site4 = Array(data[!, output]);\n",
    "id_4=findall(y_site4.<0)\n",
    "y_site4[id_4].=0\n",
    "data = CSV.read(\"$(directory_of_files)/fluxnet_$(c_site5_to_calibrate_to)_$(begin_date)_$(end_date)_QC.txt\", DataFrame, header=1, delim=\",\")\n",
    "y_site5 = Array(data[!, output]);\n",
    "id_5=findall(y_site5.<0)\n",
    "y_site5[id_5].=0"
   ]
  },
  {
   "cell_type": "code",
   "execution_count": null,
   "metadata": {},
   "outputs": [],
   "source": [
    "ensembles0 = CSV.read(\"./parameters_normalized_emulator_result_US_Me2_GPP_200_4par.txt\", DataFrame; header = false, transpose=true);\n",
    "GPP1 = Matrix(ensembles0)'*24*3600\n",
    "ensembles_mGPP1 = mean(GPP1, dims=1)\n",
    "GPP_Me2_be_200=GPP1[:,144]\n",
    "plot(GPP_Me2_be_200)"
   ]
  },
  {
   "cell_type": "code",
   "execution_count": null,
   "metadata": {},
   "outputs": [],
   "source": [
    "ensembles0 = CSV.read(\"./parameters_normalized_emulator_result_US_Blo_GPP_200_4par.txt\", DataFrame; header = false, transpose=true);\n",
    "GPP1 = Matrix(ensembles0)'*24*3600\n",
    "ensembles_mGPP1 = mean(GPP1, dims=1)\n",
    "GPP_Blo_be_200=GPP1[:,8]\n",
    "plot(GPP_Blo_be_200)"
   ]
  },
  {
   "cell_type": "code",
   "execution_count": null,
   "metadata": {},
   "outputs": [],
   "source": [
    "ensembles0 = CSV.read(\"./parameters_normalized_emulator_result_US_NR1_GPP_200_4par.txt\", DataFrame; header = false, transpose=true);\n",
    "GPP1 = Matrix(ensembles0)'*24*3600\n",
    "ensembles_mGPP1 = mean(GPP1, dims=1)\n",
    "GPP_NR1_be_200=GPP1[:,32]\n",
    "plot(GPP_NR1_be_200)"
   ]
  },
  {
   "cell_type": "code",
   "execution_count": null,
   "metadata": {},
   "outputs": [],
   "source": [
    "GPP_01 = calculate_10day_average(y_site1)\n",
    "GPP_02 = calculate_10day_average(y_site2)\n",
    "GPP_03 = calculate_10day_average(y_site3)\n",
    "GPP_04 = calculate_10day_average(y_site4)\n",
    "GPP_05 = calculate_10day_average(y_site5)"
   ]
  },
  {
   "cell_type": "code",
   "execution_count": null,
   "metadata": {},
   "outputs": [],
   "source": [
    "a1=std(y_site1-GPP_Me2_be_200)\n",
    "a3=std(y_site3-GPP_Blo_be_200)\n",
    "a5=std(y_site5-GPP_NR1_be_200)\n",
    "println([a1,a3,a5])"
   ]
  },
  {
   "cell_type": "code",
   "execution_count": null,
   "metadata": {},
   "outputs": [],
   "source": [
    "iid_normal_noise1 = a1*randn(1825)\n",
    "GPP_01_be=calculate_10day_average(GPP_Me2_be_200+iid_normal_noise1)\n",
    "iid_normal_noise3 = a3*randn(1825)\n",
    "GPP_03_be=calculate_10day_average(GPP_Blo_be_200+iid_normal_noise3)\n",
    "iid_normal_noise5 = a5*randn(1825)\n",
    "GPP_05_be=calculate_10day_average(GPP_NR1_be_200+iid_normal_noise5)"
   ]
  },
  {
   "cell_type": "markdown",
   "metadata": {},
   "source": [
    "## Load emulator (all GPs used in reconstruction)"
   ]
  },
  {
   "cell_type": "code",
   "execution_count": null,
   "metadata": {},
   "outputs": [],
   "source": [
    "emulator_filename1 = \"$(directory_of_files)/emulator_$(output_of_interest)_$(c_site1_to_calibrate_to)_200_4par.jld2\";\n",
    "@load emulator_filename1 array_GP pca_fit μ_z σ_z\n",
    "emulator_components1 = (GPs = array_GP, T_PCA = pca_fit, μ_z = μ_z, σ_z = σ_z);\n",
    "emulator_filename3 = \"$(directory_of_files)/emulator_$(output_of_interest)_$(c_site3_to_calibrate_to)_200_4par.jld2\";\n",
    "@load emulator_filename3 array_GP pca_fit μ_z σ_z\n",
    "emulator_components3 = (GPs = array_GP, T_PCA = pca_fit, μ_z = μ_z, σ_z = σ_z);\n",
    "emulator_filename5 = \"$(directory_of_files)/emulator_$(output_of_interest)_$(c_site5_to_calibrate_to)_200_4par.jld2\";\n",
    "@load emulator_filename5 array_GP pca_fit μ_z σ_z\n",
    "emulator_components5 = (GPs = array_GP, T_PCA = pca_fit, μ_z = μ_z, σ_z = σ_z);"
   ]
  },
  {
   "cell_type": "markdown",
   "metadata": {},
   "source": [
    "## Bayesian Parameter Calibration"
   ]
  },
  {
   "cell_type": "markdown",
   "metadata": {},
   "source": [
    "## Create probabilistic model"
   ]
  },
  {
   "cell_type": "markdown",
   "metadata": {},
   "source": [
    "Our likelihood looks like linear regression and features discrepency terms $\\beta_0$ and $\\beta_1$ in addition to noise term $\\epsilon$.\n",
    "\n",
    "### Likelihood: \n",
    "$$y \\sim \\beta_1 GP(\\theta) + \\epsilon, \\qquad $$\n",
    "$$\\epsilon \\stackrel{iid}{\\sim} N(0,\\sigma^2)$$\n",
    "\n",
    "for now we assume a known $\\sigma$, but we could estimate this parameter as well. $y$ is any quantity of interest predicted by the GP, $\\theta$ are the model parameters (from the ELM model, the set of 26 params)\n",
    "\n",
    "### Priors: \n",
    "\n",
    "$$\\theta \\sim p(\\theta)$$ \n",
    "$$p(\\theta) = Normal(0.5,0.25)$$\n",
    "$$\\log(\\sigma) \\sim N(\\log 1, ((\\log 2)/2)^2)$$\n",
    "\n",
    "And I chose Normal priors for the regression parameters and LogNormal for the standard deviation. \n"
   ]
  },
  {
   "cell_type": "markdown",
   "metadata": {},
   "source": [
    "Define Prior distributions\n",
    "\n",
    "ZJ: I change the priors and define the prob_model for each site, as the emulators are different"
   ]
  },
  {
   "cell_type": "markdown",
   "metadata": {},
   "source": [
    "### Site 1"
   ]
  },
  {
   "cell_type": "code",
   "execution_count": null,
   "metadata": {},
   "outputs": [],
   "source": [
    "#try other priors and define the model (emulator) outside for final validation (sample observation & simulated observation)\n",
    "function priors(num_params)\n",
    "    return filldist( Truncated(Normal(0.5,0.25), 0,1), num_params)\n",
    "end\n",
    "model_1(θ,N_PCA)= calibration_emulator1(θ, emulator_components1, N_PCA);\n",
    "\n",
    "Q(y)=mean(y)"
   ]
  },
  {
   "cell_type": "code",
   "execution_count": null,
   "metadata": {},
   "outputs": [],
   "source": [
    "@model function prob_model_1(y, num_params, N_PCA)\n",
    "    # Define the priors\n",
    "    p ~ priors(num_params)\n",
    "    β_1 ~ Uniform(0.9,1.1)\n",
    "    σ ~ LogNormal(log(1), log(2)/2)\n",
    "    θ = reshape(p, 1,length(p)) # GP is very picky about dimensions, so we need to reshape here\n",
    "    m=model_1(θ,N_PCA)\n",
    "    y ~ MvNormal(β_1*m, σ^2*I )\n",
    "    return Q(m)\n",
    "end "
   ]
  },
  {
   "cell_type": "code",
   "execution_count": null,
   "metadata": {},
   "outputs": [],
   "source": [
    "alg = NUTS(1000,0.65)\n",
    "strategy = MCMCSerial()\n",
    "N_param=4\n",
    "N_sample =5000\n",
    "N_chain = 5\n",
    "\n",
    "model = prob_model_1(GPP_01, N_param, 12)\n",
    "@time chain1 = Turing.sample(model, alg, strategy, N_sample, N_chain; progress=true)\n",
    "chain1 = replacenames(chain1, Dict(\"p[$i]\" => p_names_dis[i] for i in 1:D))\n",
    "@save \"US_Me2_GPP_fluxnet_nobeta0_5000_5_4par_180day.jld2\" chain1"
   ]
  },
  {
   "cell_type": "markdown",
   "metadata": {},
   "source": [
    "### Site 3"
   ]
  },
  {
   "cell_type": "code",
   "execution_count": null,
   "metadata": {},
   "outputs": [],
   "source": [
    "#try other priors and define the model (emulator) outside for final validation (sample observation & simulated observation)\n",
    "function priors(num_params)\n",
    "    return filldist( Truncated(Normal(0.5,0.25), 0,1), num_params)\n",
    "end\n",
    "model_3(θ,N_PCA)= calibration_emulator1(θ, emulator_components3, N_PCA);\n",
    "\n",
    "Q(y)=mean(y)"
   ]
  },
  {
   "cell_type": "code",
   "execution_count": null,
   "metadata": {},
   "outputs": [],
   "source": [
    "@model function prob_model_3(y, num_params, N_PCA)\n",
    "    # Define the priors\n",
    "    p ~ priors(num_params)\n",
    "    β_1 ~ Uniform(0.9,1.1)\n",
    "    σ ~ LogNormal(log(1), log(2)/2)\n",
    "    \n",
    "    θ = reshape(p, 1,length(p)) # GP is very picky about dimensions, so we need to reshape here\n",
    "    m=model_3(θ,N_PCA)\n",
    "    y ~ MvNormal(β_1*m, σ^2*I )\n",
    "    return Q(m)\n",
    "end "
   ]
  },
  {
   "cell_type": "code",
   "execution_count": null,
   "metadata": {},
   "outputs": [],
   "source": [
    "alg = NUTS(1000,0.65)\n",
    "strategy = MCMCSerial()\n",
    "N_param=4\n",
    "N_sample =5000\n",
    "N_chain = 5\n",
    "\n",
    "model = prob_model_3(GPP_03, N_param, 12)\n",
    "@time chain3 = Turing.sample(model, alg, strategy, N_sample, N_chain; progress=true)\n",
    "chain3 = replacenames(chain3, Dict(\"p[$i]\" => p_names_dis[i] for i in 1:D))\n",
    "@save \"US_Blo_GPP_fluxnet_nobeta0_5000_5_4par_180day.jld2\" chain3"
   ]
  },
  {
   "cell_type": "markdown",
   "metadata": {},
   "source": [
    "### site 5"
   ]
  },
  {
   "cell_type": "code",
   "execution_count": null,
   "metadata": {},
   "outputs": [],
   "source": [
    "#try other priors and define the model (emulator) outside for final validation (sample observation & simulated observation)\n",
    "function priors(num_params)\n",
    "    return filldist( Truncated(Normal(0.5,0.25), 0,1), num_params)\n",
    "end\n",
    "model_5(θ,N_PCA)= calibration_emulator1(θ, emulator_components5, N_PCA);\n",
    "\n",
    "Q(y)=mean(y)"
   ]
  },
  {
   "cell_type": "code",
   "execution_count": null,
   "metadata": {},
   "outputs": [],
   "source": [
    "@model function prob_model_5(y, num_params, N_PCA)\n",
    "    # Define the priors\n",
    "    p ~ priors(num_params)\n",
    "    β_1 ~ Uniform(0.9,1.1)\n",
    "    σ ~ LogNormal(log(1), log(2)/2)\n",
    "    \n",
    "    θ = reshape(p, 1,length(p)) # GP is very picky about dimensions, so we need to reshape here\n",
    "    m=model_5(θ,N_PCA)\n",
    "    y ~ MvNormal(β_1*m, σ^2*I )\n",
    "    return Q(m)\n",
    "end "
   ]
  },
  {
   "cell_type": "code",
   "execution_count": null,
   "metadata": {},
   "outputs": [],
   "source": [
    "alg = NUTS(1000,0.65)\n",
    "strategy = MCMCSerial()\n",
    "N_param=4\n",
    "N_sample =5000\n",
    "N_chain = 5\n",
    "\n",
    "model = prob_model_5(GPP_05, N_param, 12)\n",
    "@time chain5 = Turing.sample(model, alg, strategy, N_sample, N_chain; progress=true)\n",
    "chain5 = replacenames(chain5, Dict(\"p[$i]\" => p_names_dis[i] for i in 1:D))\n",
    "@save \"US_NR1_GPP_fluxnet_nobeta0_5000_5_4par_180day.jld2\" chain5"
   ]
  },
  {
   "cell_type": "markdown",
   "metadata": {},
   "source": [
    "## Posterior predictions / observing system simulation experiments (OSSEs)"
   ]
  },
  {
   "cell_type": "markdown",
   "metadata": {},
   "source": [
    "OSSE parameter sampling from posterior distributions"
   ]
  },
  {
   "cell_type": "code",
   "execution_count": null,
   "metadata": {},
   "outputs": [],
   "source": [
    "N_samp0 = 1000"
   ]
  },
  {
   "cell_type": "code",
   "execution_count": null,
   "metadata": {},
   "outputs": [],
   "source": [
    "@load \"US_Me2_GPP_fluxnet_nobeta0_5000_5_4par_180day.jld2\"  chain1\n",
    "achain1=Array(chain1)\n",
    "@load \"US_Blo_GPP_fluxnet_nobeta0_5000_5_4par_180day.jld2\"  chain3\n",
    "achain3=Array(chain3)\n",
    "@load \"US_NR1_GPP_fluxnet_nobeta0_5000_5_4par_180day.jld2\" chain5\n",
    "achain5=Array(chain5)"
   ]
  },
  {
   "cell_type": "code",
   "execution_count": null,
   "metadata": {},
   "outputs": [],
   "source": [
    "p_samp1 = achain1[Turing.sample(1:size(achain1,1), N_samp0),:]\n",
    "p_samp3 = achain3[Turing.sample(1:size(achain1,1), N_samp0),:]\n",
    "p_samp5 = achain5[Turing.sample(1:size(achain1,1), N_samp0),:]"
   ]
  },
  {
   "cell_type": "code",
   "execution_count": null,
   "metadata": {},
   "outputs": [],
   "source": [
    "function simulate_observations(N, samples, model,N_PCA)\n",
    "    N_samp = size(samples,1)\n",
    "    y_sim = zeros(N, N_samp)\n",
    "    @threads for i = 1:N_samp\n",
    "       y_sim[:,i] .= sample_observation(samples[i,:], model,N_PCA)\n",
    "    end\n",
    "    y_sim\n",
    "end"
   ]
  },
  {
   "cell_type": "code",
   "execution_count": null,
   "metadata": {},
   "outputs": [],
   "source": [
    "using Statistics\n",
    "using Distributions\n",
    "\n",
    "# Define the function to calculate the 95% confidence interval\n",
    "function confidence_interval(data::Vector{Float64}, confidence_level::Float64=0.05)\n",
    "    # Sample mean\n",
    "    mean_value = mean(data)\n",
    "\n",
    "    # Sample standard deviation\n",
    "    std_dev = std(data)\n",
    "\n",
    "    # Sample size\n",
    "    n = length(data)\n",
    "\n",
    "    # Standard error of the mean\n",
    "    sem = std_dev / sqrt(n)\n",
    "\n",
    "    # For the specified confidence interval, the critical value from the t-distribution\n",
    "    # Degrees of freedom: n - 1\n",
    "    df = n - 1\n",
    "    alpha = 1 - confidence_level\n",
    "    t_critical = quantile(TDist(df), 1 - alpha / 2)\n",
    "\n",
    "    # Margin of error\n",
    "    margin_of_error = t_critical * sem\n",
    "\n",
    "    # Confidence interval\n",
    "    #lower_bound = mean_value - margin_of_error\n",
    "    #upper_bound = mean_value + margin_of_error\n",
    "    lower_bound = quantile(data,0.025)\n",
    "    upper_bound = quantile(data,0.975)\n",
    "    \n",
    "    \n",
    "\n",
    "    return (lower_bound, upper_bound)\n",
    "end"
   ]
  },
  {
   "cell_type": "code",
   "execution_count": null,
   "metadata": {},
   "outputs": [],
   "source": [
    "# Define a function to calculate RMSE\n",
    "function rmse(actual, predicted)\n",
    "    n = length(actual)\n",
    "    sqrt(sum((actual .- predicted).^2) / n)\n",
    "end"
   ]
  },
  {
   "cell_type": "code",
   "execution_count": null,
   "metadata": {},
   "outputs": [],
   "source": [
    "# Define a function to calculate RMSE, NRMSE, and PRMSE\n",
    "function rmse(actual, predicted; method=\"percentage\")\n",
    "    n = length(actual)\n",
    "    rmse_value = sqrt(sum((actual .- predicted).^2) / n)\n",
    "\n",
    "    if method == \"range\"\n",
    "        # Normalized by range (max - min)\n",
    "        norm_rmse = rmse_value / (maximum(actual) - minimum(actual))\n",
    "    elseif method == \"percentage\"\n",
    "        # Normalized by mean (percentage RMSE)\n",
    "        norm_rmse = (rmse_value / mean(actual)) \n",
    "    else\n",
    "        error(\"Invalid method. Choose 'range' or 'percentage'.\")\n",
    "    end\n",
    "\n",
    "    return norm_rmse\n",
    "end"
   ]
  },
  {
   "cell_type": "code",
   "execution_count": null,
   "metadata": {},
   "outputs": [],
   "source": [
    "function r_squared(actual, predicted)\n",
    "    # 计算均方和\n",
    "    ss_total = sum((actual .- mean(actual)).^2)\n",
    "    ss_residual = sum((actual .- predicted).^2)\n",
    "    r2 = 1 - (ss_residual / ss_total)\n",
    "    return r2\n",
    "end"
   ]
  },
  {
   "cell_type": "code",
   "execution_count": null,
   "metadata": {},
   "outputs": [],
   "source": [
    "ELM_Me2 = Dataset(\"US_Me2_GPP_g0001_g1300_2003_2007_res05.nc\")\n",
    "t = ELM_Me2[\"time\"]\n",
    "time1=year.(t)+dayofyear.(t)/365;"
   ]
  },
  {
   "cell_type": "code",
   "execution_count": null,
   "metadata": {},
   "outputs": [],
   "source": [
    "using GLMakie\n",
    "using CairoMakie"
   ]
  },
  {
   "cell_type": "code",
   "execution_count": null,
   "metadata": {},
   "outputs": [],
   "source": [
    "fig = Figure(size= (900, 600));"
   ]
  },
  {
   "cell_type": "code",
   "execution_count": null,
   "metadata": {},
   "outputs": [],
   "source": [
    "function sample_observation(sample, model,N_PCA)  \n",
    "    σ = sample[6] \n",
    "    β_1=sample[5]\n",
    "    p = sample[1:4]\n",
    "    θ = reshape(p, 1, length(p))\n",
    "    m = model_1(θ,N_PCA)\n",
    "    err=a1*randn(length(m))\n",
    "    y = β_1*m +err\n",
    "end"
   ]
  },
  {
   "cell_type": "code",
   "execution_count": null,
   "metadata": {},
   "outputs": [],
   "source": [
    "# Simulate observations\n",
    "y_sim_1_1 = simulate_observations(180, p_samp1, model_1, 12)\n",
    "y_sim_1_1_m = mean(y_sim_1_1, dims=2)\n",
    "ci = zeros(Float64, 180, 2)\n",
    "for i = 1:size(y_sim_1_1, 1)\n",
    "    ci[i, :] .= confidence_interval(y_sim_1_1[i, :])\n",
    "end\n",
    "\n",
    "xvalues = [2004, 2006, 2008]\n",
    "xlabels = [\"\", \"\", \"\"]\n",
    "\n",
    "# Create figure and axis\n",
    "#l = fig[1, 1] = GridLayout()\n",
    "ax1 = Axis(fig[1, 1], xlabel = \"\", ylabel = \"US-Me2\",title=\"US-Me2\",xticks=(xvalues, xlabels))\n",
    "CairoMakie.ylims!(ax1, -5, 15)\n",
    "# Add plots\n",
    "\n",
    "p2=band!(ax1, time1[15:10:1805], ci[:, 1], ci[:, 2], color = (:pink, 1))\n",
    "# Add mean line\n",
    "p4=lines!(ax1, time1[15:10:1805], GPP_01_be, color = :blue, linewidth = 4, label = \"BE+noise\")\n",
    "p3=lines!(ax1, time1[15:10:1805],vec(y_sim_1_1_m), color = :red, linewidth = 2, label = \"mean\")\n",
    "# Add scatter plots\n",
    "p5=GLMakie.scatter!(ax1, time1[15:10:1805], GPP_01,  markersize=4,color = :green, label = \"fluxnet\")\n",
    "rmse_value = rmse(GPP_01, y_sim_1_1_m)\n",
    "text!(ax1, 2003, 13, text= string(\"NRMSE=\",round(rmse_value, digits=2)), align = (:left, :center))\n",
    "r2 = cor(GPP_01, y_sim_1_1_m)\n",
    "\n",
    "legend=Legend(fig,[p2,p3,p4,p5], [\"95% interval\",\"mean\",\"best estimate\",\"fluxnet\"],tellheight = false, halign =:left, valign =:top, orientation = :horizontal, framevisible = false)\n",
    "fig[4,2] = legend\n",
    "legend.width = Relative(1.2)\n",
    "fig[1,1]=ax1"
   ]
  },
  {
   "cell_type": "code",
   "execution_count": null,
   "metadata": {},
   "outputs": [],
   "source": [
    "# Simulate observations\n",
    "y_sim_1_1 = simulate_observations(180, p_samp3, model_1, 12)\n",
    "y_sim_1_1_m = mean(y_sim_1_1, dims=2)\n",
    "ci = zeros(Float64, 180, 2)\n",
    "for i = 1:size(y_sim_1_1, 1)\n",
    "    ci[i, :] .= confidence_interval(y_sim_1_1[i, :])\n",
    "end\n",
    "\n",
    "xvalues = [2004, 2006, 2008]\n",
    "xlabels = [\"\", \"\", \"\"]\n",
    "\n",
    "# Create figure and axis\n",
    "\n",
    "ax2 = Axis(fig[2, 1], xlabel = \"\", ylabel = \"US-Blo\", title = \"\",xticks=(xvalues, xlabels))\n",
    "CairoMakie.ylims!(ax2, -5, 15)\n",
    "\n",
    "# Add shaded area\n",
    "band!(ax2, time1[15:10:1805], ci[:, 1], ci[:, 2],  color = (:pink,1))\n",
    "# Add mean line\n",
    "lines!(ax2, time1[15:10:1805], GPP_01_be, color = :blue, linewidth = 4, label = \"BE+noise\")\n",
    "lines!(ax2, time1[15:10:1805],vec(y_sim_1_1_m), color = :red, linewidth = 2, label = \"mean\")\n",
    "GLMakie.scatter!(ax2, time1[15:10:1805], GPP_01, markersize=4,color = :green, label = \"\")\n",
    "rmse_value = rmse(GPP_01, y_sim_1_1_m)\n",
    "text!(ax2, 2003, 13, text= string(\"NRMSE=\",round(rmse_value, digits=2)), align = (:left, :center))\n",
    "fig[2,1]=ax2\n"
   ]
  },
  {
   "cell_type": "code",
   "execution_count": null,
   "metadata": {},
   "outputs": [],
   "source": [
    "# Simulate observations\n",
    "y_sim_1_1 = simulate_observations(180, p_samp5, model_1, 12)\n",
    "y_sim_1_1_m = mean(y_sim_1_1, dims=2)\n",
    "ci = zeros(Float64, 180, 2)\n",
    "for i = 1:size(y_sim_1_1, 1)\n",
    "    ci[i, :] .= confidence_interval(y_sim_1_1[i, :])\n",
    "end\n",
    "\n",
    "xvalues = [2004, 2006, 2008]\n",
    "xlabels = [\"\", \"\", \"\"]\n",
    "\n",
    "# Create figure and axis\n",
    "\n",
    "ax3 = Axis(fig[3, 1], xlabel = \"year\", ylabel = \"US-NR1\", title = \"\")\n",
    "CairoMakie.ylims!(ax3, -5, 15)\n",
    "\n",
    "# Add shaded area\n",
    "band!(ax3, time1[15:10:1805], ci[:, 1], ci[:, 2],  color = (:pink, 1))\n",
    "# Add mean line\n",
    "lines!(ax3, time1[15:10:1805], GPP_01_be, color = :blue, linewidth = 4, label = \"BE+noise\")\n",
    "lines!(ax3, time1[15:10:1805],vec(y_sim_1_1_m), color = :red, linewidth = 2, label = \"mean\")\n",
    "GLMakie.scatter!(ax3, time1[15:10:1805], GPP_01, markersize=4,color = :green, label = \"\")\n",
    "rmse_value = rmse(GPP_01, y_sim_1_1_m)\n",
    "text!(ax3, 2003, 13, text= string(\"NRMSE=\",round(rmse_value, digits=2)), align = (:left, :center))\n",
    "fig[3,1]=ax3\n"
   ]
  },
  {
   "cell_type": "code",
   "execution_count": null,
   "metadata": {},
   "outputs": [],
   "source": [
    "function sample_observation(sample, model,N_PCA)  \n",
    "    σ = sample[6] \n",
    "    β_1=sample[5]\n",
    "    p = sample[1:4]\n",
    "    θ = reshape(p, 1, length(p))\n",
    "    m = model_3(θ,N_PCA)\n",
    "    err=a3*randn(length(m))\n",
    "    y = β_1*m +err\n",
    "end"
   ]
  },
  {
   "cell_type": "code",
   "execution_count": null,
   "metadata": {},
   "outputs": [],
   "source": [
    "# Simulate observations\n",
    "y_sim_1_1 = simulate_observations(180, p_samp1, model_3, 12)\n",
    "y_sim_1_1_m = mean(y_sim_1_1, dims=2)\n",
    "ci = zeros(Float64, 180, 2)\n",
    "for i = 1:size(y_sim_1_1, 1)\n",
    "    ci[i, :] .= confidence_interval(y_sim_1_1[i, :])\n",
    "end\n",
    "# Create figure and axis\n",
    "xvalues = [2004, 2006, 2008]\n",
    "xlabels = [\"\", \"\", \"\"]\n",
    "\n",
    "ax4 = Axis(fig[1, 2], xlabel = \"\", ylabel = \"\", title = \"US-Blo\",xticks=(xvalues, xlabels))\n",
    "CairoMakie.ylims!(ax4, -5, 15)\n",
    "\n",
    "# Add shaded area\n",
    "band!(ax4, time1[15:10:1805], ci[:, 1], ci[:, 2], color = (:pink,1))\n",
    "# Add mean line\n",
    "lines!(ax4, time1[15:10:1805], GPP_03_be, color = :blue, linewidth = 4, label = \"BE+noise\")\n",
    "lines!(ax4, time1[15:10:1805],vec(y_sim_1_1_m), color = :red, linewidth =2, label = \"mean\")\n",
    "GLMakie.scatter!(ax4, time1[15:10:1805], GPP_03, markersize=4,color = :green, label = \"\")\n",
    "rmse_value = rmse(GPP_03, y_sim_1_1_m)\n",
    "text!(ax4, 2003, 13, text= string(\"NRMSE=\",round(rmse_value, digits=2)), align = (:left, :center))\n",
    "fig[1,2]=ax4"
   ]
  },
  {
   "cell_type": "code",
   "execution_count": null,
   "metadata": {},
   "outputs": [],
   "source": [
    "# Simulate observations\n",
    "y_sim_1_1 = simulate_observations(180, p_samp3, model_3, 12)\n",
    "y_sim_1_1_m = mean(y_sim_1_1, dims=2)\n",
    "ci = zeros(Float64, 180, 2)\n",
    "for i = 1:size(y_sim_1_1, 1)\n",
    "    ci[i, :] .= confidence_interval(y_sim_1_1[i, :])\n",
    "end\n",
    "\n",
    "xvalues = [2004, 2006, 2008]\n",
    "xlabels = [\"\", \"\", \"\"]\n",
    "\n",
    "# Create figure and axis\n",
    "\n",
    "ax5 = Axis(fig[2, 2], xlabel = \"\", ylabel = \"\", title=\"\",xticks=(xvalues, xlabels))\n",
    "CairoMakie.ylims!(ax5, -5, 15)\n",
    "\n",
    "# Add shaded area\n",
    "band!(ax5, time1[15:10:1805], ci[:, 1], ci[:, 2],  color = (:pink,1))\n",
    "# Add mean line\n",
    "lines!(ax5, time1[15:10:1805], GPP_03_be, color = :blue, linewidth = 4, label = \"BE+noise\")\n",
    "lines!(ax5, time1[15:10:1805],vec(y_sim_1_1_m), color = :red, linewidth =2, label = \"mean\")\n",
    "GLMakie.scatter!(ax5, time1[15:10:1805], GPP_03,markersize=4, color = :green, label = \"\")\n",
    "rmse_value = rmse(GPP_03, y_sim_1_1_m)\n",
    "text!(ax5, 2003, 13, text= string(\"NRMSE=\",round(rmse_value, digits=2)), align = (:left, :center))\n",
    "fig[2,2]=ax5\n"
   ]
  },
  {
   "cell_type": "code",
   "execution_count": null,
   "metadata": {},
   "outputs": [],
   "source": [
    "y_sim_1_1 = simulate_observations(180, p_samp5, model_3, 12)\n",
    "y_sim_1_1_m = mean(y_sim_1_1, dims=2)\n",
    "ci = zeros(Float64, 180, 2)\n",
    "for i = 1:size(y_sim_1_1, 1)\n",
    "    ci[i, :] .= confidence_interval(y_sim_1_1[i, :])\n",
    "end\n",
    "\n",
    "xvalues = [2004, 2006, 2008]\n",
    "xlabels = [\"\", \"\", \"\"]\n",
    "\n",
    "# Create figure and axis\n",
    "\n",
    "ax6= Axis(fig[3, 2], xlabel =  \"year\", ylabel = \"\", title = \"\")\n",
    "CairoMakie.ylims!(ax6, -5, 15)\n",
    "\n",
    "# Add shaded area\n",
    "band!(ax6, time1[15:10:1805], ci[:, 1], ci[:, 2], color = (:pink,1))\n",
    "# Add mean line\n",
    "lines!(ax6, time1[15:10:1805], GPP_03_be, color = :blue, linewidth = 4, label = \"BE+noise\")\n",
    "lines!(ax6, time1[15:10:1805],vec(y_sim_1_1_m), color = :red, linewidth =2, label = \"mean\")\n",
    "GLMakie.scatter!(ax6, time1[15:10:1805], GPP_03,markersize=4, color = :green, label = \"\")\n",
    "rmse_value = rmse(GPP_03, y_sim_1_1_m)\n",
    "text!(ax6, 2003, 13, text= string(\"NRMSE=\",round(rmse_value, digits=2)), align = (:left, :center))\n",
    "fig[3,2]=ax6\n"
   ]
  },
  {
   "cell_type": "code",
   "execution_count": null,
   "metadata": {},
   "outputs": [],
   "source": [
    "function sample_observation(sample, model,N_PCA)  \n",
    "    σ = sample[6] \n",
    "    β_1=sample[5]\n",
    "    #β_0=sample[5]\n",
    "    p = sample[1:4]\n",
    "    θ = reshape(p, 1, length(p))\n",
    "    m = model_5(θ,N_PCA)\n",
    "    err=a5*randn(length(m))\n",
    "    y = β_1*m +err\n",
    "end"
   ]
  },
  {
   "cell_type": "code",
   "execution_count": null,
   "metadata": {},
   "outputs": [],
   "source": [
    "# Simulate observations\n",
    "y_sim_1_1 = simulate_observations(180, p_samp1, model_5, 12)\n",
    "y_sim_1_1_m = mean(y_sim_1_1, dims=2)\n",
    "ci = zeros(Float64, 180, 2)\n",
    "for i = 1:size(y_sim_1_1, 1)\n",
    "    ci[i, :] .= confidence_interval(y_sim_1_1[i, :])\n",
    "end\n",
    "xvalues = [2004, 2006, 2008]\n",
    "xlabels = [\"\", \"\", \"\"]\n",
    "\n",
    "# Create figure and axis\n",
    "\n",
    "ax7 = Axis(fig[1,3], xlabel = \"\", ylabel = \"\", title = \"US-NR1\",xticks=(xvalues, xlabels))\n",
    "CairoMakie.ylims!(ax7, -5, 15)\n",
    "# Add shaded area\n",
    "band!(ax7, time1[15:10:1805], ci[:, 1], ci[:, 2],  color = (:pink, 1))\n",
    "# Add mean line\n",
    "lines!(ax7, time1[15:10:1805], GPP_05_be, color =  :blue, linewidth = 4, label = \"BE+noise\")\n",
    "lines!(ax7, time1[15:10:1805],vec(y_sim_1_1_m), color = :red, linewidth = 2, label = \"mean\")\n",
    "GLMakie.scatter!(ax7, time1[15:10:1805], GPP_05,markersize=4, color = :green, label = \"\")\n",
    "rmse_value = rmse(GPP_05, y_sim_1_1_m)\n",
    "text!(ax7, 2003, 13, text= string(\"NRMSE=\",round(rmse_value, digits=2)), align = (:left, :center))\n",
    "fig[1,3]=ax7\n"
   ]
  },
  {
   "cell_type": "code",
   "execution_count": null,
   "metadata": {},
   "outputs": [],
   "source": [
    "# Simulate observations\n",
    "y_sim_1_1 = simulate_observations(180, p_samp3, model_5, 12)\n",
    "y_sim_1_1_m = mean(y_sim_1_1, dims=2)\n",
    "ci = zeros(Float64, 180, 2)\n",
    "for i = 1:size(y_sim_1_1, 1)\n",
    "    ci[i, :] .= confidence_interval(y_sim_1_1[i, :])\n",
    "end\n",
    "\n",
    "xvalues = [2004, 2006, 2008]\n",
    "xlabels = [\"\", \"\", \"\"]\n",
    "\n",
    "# Create figure and axis\n",
    "\n",
    "ax8 = Axis(fig[2,3], xlabel = \"\", ylabel = \"\", title = \"\",xticks=(xvalues, xlabels))\n",
    "CairoMakie.ylims!(ax8, -5, 15)\n",
    "\n",
    "# Add shaded area\n",
    "band!(ax8, time1[15:10:1805], ci[:, 1], ci[:, 2],  color = (:pink, 1))\n",
    "# Add mean line\n",
    "lines!(ax8, time1[15:10:1805], GPP_05_be, color = :blue, linewidth = 4, label = \"BE+noise\")\n",
    "lines!(ax8, time1[15:10:1805],vec(y_sim_1_1_m), color = :red, linewidth = 2, label = \"mean\")\n",
    "GLMakie.scatter!(ax8, time1[15:10:1805], GPP_05,markersize=4, color = :green, label = \"\")\n",
    "rmse_value = rmse(GPP_05, y_sim_1_1_m)\n",
    "text!(ax8, 2003, 13, text= string(\"NRMSE=\",round(rmse_value, digits=2)), align = (:left, :center))\n",
    "fig[2,3]=ax8"
   ]
  },
  {
   "cell_type": "code",
   "execution_count": null,
   "metadata": {},
   "outputs": [],
   "source": [
    "# Simulate observations\n",
    "y_sim_1_1 = simulate_observations(180, p_samp5, model_5, 12)\n",
    "y_sim_1_1_m = mean(y_sim_1_1, dims=2)\n",
    "ci = zeros(Float64, 180, 2)\n",
    "for i = 1:size(y_sim_1_1, 1)\n",
    "    ci[i, :] .= confidence_interval(y_sim_1_1[i, :])\n",
    "end\n",
    "\n",
    "xvalues = [2004, 2006, 2008]\n",
    "xlabels = [\"\", \"\", \"\"]\n",
    "\n",
    "# Create figure and axis\n",
    "\n",
    "ax9 = Axis(fig[3, 3], xlabel = \"year\", ylabel = \"\",title=\"\")\n",
    "CairoMakie.ylims!(ax9, -5, 15)\n",
    "# Add shaded area\n",
    "band!(ax9, time1[15:10:1805], ci[:, 1], ci[:, 2],  color = (:pink,1))\n",
    "# Add mean line\n",
    "lines!(ax9, time1[15:10:1805], GPP_05_be, color = :blue, linewidth = 4, label = \"BE+noise\")\n",
    "lines!(ax9, time1[15:10:1805],vec(y_sim_1_1_m), color = :red, linewidth = 2, label = \"mean\")\n",
    "GLMakie.scatter!(ax9, time1[15:10:1805], GPP_05,markersize=4, color = :green, label = \"\")\n",
    "rmse_value = rmse(GPP_05, y_sim_1_1_m)\n",
    "text!(ax9, 2003, 13, text= string(\"NRMSE=\",round(rmse_value, digits=2)), align = (:left, :center))\n",
    "fig[3,3]=ax9"
   ]
  },
  {
   "cell_type": "code",
   "execution_count": null,
   "metadata": {},
   "outputs": [],
   "source": [
    "Label(fig[1,2,Top()], \"GPP at Predicted Sites (GP emulator)\", fontsize=20, padding=(4, 4, 30, 4))\n",
    "Label(fig[2,1,Left()], \"Calibrated Sites (parameters)\", rotation=π/2, fontsize=20, padding=(4, 60, 4, 4))\n",
    "fig"
   ]
  },
  {
   "cell_type": "code",
   "execution_count": null,
   "metadata": {},
   "outputs": [],
   "source": [
    "using CairoMakie\n",
    "save(\"fig8_site_3_3_fluxnet_nobeta0_20250224.pdf\",fig)"
   ]
  },
  {
   "cell_type": "code",
   "execution_count": null,
   "metadata": {},
   "outputs": [],
   "source": []
  }
 ],
 "metadata": {
  "kernelspec": {
   "display_name": "Julia 1.11.0-rc2",
   "language": "julia",
   "name": "julia-1.11"
  },
  "language_info": {
   "file_extension": ".jl",
   "mimetype": "application/julia",
   "name": "julia",
   "version": "1.11.0"
  }
 },
 "nbformat": 4,
 "nbformat_minor": 4
}
