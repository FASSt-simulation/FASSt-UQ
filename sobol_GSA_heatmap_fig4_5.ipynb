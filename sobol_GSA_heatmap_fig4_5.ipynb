{
 "cells": [
  {
   "cell_type": "code",
   "execution_count": null,
   "id": "8f277839",
   "metadata": {},
   "outputs": [],
   "source": [
    "# Run this Julia script for a minimal example of calibration\n",
    "include(\"emulation_functions.jl\")\n",
    "using JLD2\n",
    "using Turing\n",
    "using CSV\n",
    "using DataFrames\n",
    "using Measures\n",
    "using QuasiMonteCarlo\n",
    "using GlobalSensitivity\n",
    "using NCDatasets\n",
    "using NetCDF\n",
    "using Dates\n",
    "# Set a seed for reproducibility\n",
    "using Random\n",
    "Random.seed!(11);"
   ]
  },
  {
   "cell_type": "code",
   "execution_count": null,
   "id": "0a3e1994",
   "metadata": {},
   "outputs": [],
   "source": [
    "# labels for plotting\n",
    "labels = [\"flnr\", \"slatop\", \"dleaf\", \"dsladlai\", \"leaf_long\",\n",
    "          \"s_vc\", \"bbbopt\", \"mbbopt\", \"smpsc\", \"smpso\", \n",
    "          \"rholvis\", \"rholnir\", \"taulvis\", \"taulnir\", \"rhosvis\",\n",
    "          \"rhosnir\", \"xl\", \"displar\", \"z0mr\", \"vcmaxha\", \"vcmaxhd\", \n",
    "          \"jmaxha\", \"jmaxhd\", \"roota_par\", \"rootb_par\", \"grperc\"]"
   ]
  },
  {
   "cell_type": "code",
   "execution_count": null,
   "id": "7e431180",
   "metadata": {},
   "outputs": [],
   "source": [
    "elements = [\"flnr\",\"slatop\",\"dleaf\",\"dsladlai\",\"leaf_long\",\"s_vc\",\"bbbopt\",\"mbbopt\",\"smpsc\",\"smpso\",\"rholvis\",\"rholnir\",\"taulvis\",\n",
    "            \"taulnir\",\"rhosvis\",\"rhosnir\",\"xl\",\"displar\",\"z0mr\",\"vcmaxha\",\"vcmaxhd\",\"jmaxha\",\"jmaxhd\",\"roota_par\",\"rootb_par\",\"grperc\"]\n",
    "quantity_prefix = [\"SH\",\"LH\",\"NEE\",\"GPP\"]\n",
    "xlabel_str=elements\n",
    "ylabel_str=quantity_prefix"
   ]
  },
  {
   "cell_type": "code",
   "execution_count": null,
   "id": "a97d56bf",
   "metadata": {},
   "outputs": [],
   "source": [
    "# Load a GP emulator\n",
    "emulator_filename1 = \"./emulator_GPP_US_Me2.jld2\";\n",
    "@load emulator_filename1 array_GP pca_fit μ_z σ_z\n",
    "emulator_components1 = (GPs = array_GP, T_PCA = pca_fit, μ_z = μ_z, σ_z = σ_z)\n",
    "println(\"Done\")\n",
    "\n",
    "num_pcs = 12 # we will use 12 PCs throughout, but can change this here\n",
    "num_params = emulator_components1.GPs[1].dim;\n",
    "N_sample =2000\n",
    "\n",
    "# Define quantity-of-interest function \n",
    "function qoi1(param_vals, N_PCA=num_pcs)\n",
    "    θ = hcat(param_vals...)\n",
    "    emulator_eval = calibration_emulator(θ, emulator_components1, N_PCA)\n",
    "    return mean(emulator_eval)\n",
    "end"
   ]
  },
  {
   "cell_type": "code",
   "execution_count": null,
   "id": "4d5f4b2b",
   "metadata": {},
   "outputs": [],
   "source": [
    "lb = [0 for i in 1:num_params]\n",
    "ub = [1 for i in 1:num_params]\n",
    "sampler = QuasiMonteCarlo.SobolSample()\n",
    "\n",
    "A, B = QuasiMonteCarlo.generate_design_matrices(N_sample, lb, ub, sampler, 2)"
   ]
  },
  {
   "cell_type": "code",
   "execution_count": null,
   "id": "cd3c4a26",
   "metadata": {},
   "outputs": [],
   "source": [
    "@time sobol_result_Me2_GPP = GlobalSensitivity.gsa(p -> qoi1(p, num_pcs), GlobalSensitivity.Sobol(order=[0,1,2]), A, B)"
   ]
  },
  {
   "cell_type": "code",
   "execution_count": null,
   "id": "c0c58669",
   "metadata": {},
   "outputs": [],
   "source": [
    "fillrange = 0.01\n",
    "z = collect(zip(sobol_result_Me2_GPP.S1, sobol_result_Me2_GPP.ST))\n",
    "mat = [tup[k] for tup in z, k in 1:2]\n",
    "\n",
    "ctg = repeat([\"First-Order\", \"Total\"], inner = length(sobol_result_Me2_GPP.S1))\n",
    "nam = repeat(labels, outer = 2)\n",
    "plt = groupedbar(mat, group = ctg, spacing=0.5, ylabel = \"Sobol Index\",\n",
    "            title = \"\", linecolor = [:magenta :blue], framestyle = :box, ylim=(0,1),  xticks = (1:26,xlabel_str),\n",
    "            xtickfontsize=10, ylabelfontsize=18,bar_width=0.8, xrotation=90, widen=false, grid=false,\n",
    "            tick_direction=:none,c = [:magenta :blue],legend_background_color=:white, \n",
    "            legend_foreground_color=:white, margin=5mm)"
   ]
  },
  {
   "cell_type": "code",
   "execution_count": null,
   "id": "c0cdda8b",
   "metadata": {},
   "outputs": [],
   "source": [
    "emulator_filename2 = \"./emulator_NEE_US_Me2.jld2\";\n",
    "@load emulator_filename2 array_GP pca_fit μ_z σ_z\n",
    "emulator_components2 = (GPs = array_GP, T_PCA = pca_fit, μ_z = μ_z, σ_z = σ_z)\n",
    "\n",
    "function qoi2(param_vals, N_PCA=num_pcs)\n",
    "    # A function to compute a QOI\n",
    "    θ = hcat(param_vals...)\n",
    "    emulator_eval = calibration_emulator(θ, emulator_components2, N_PCA)\n",
    "    return mean(emulator_eval)\n",
    "end"
   ]
  },
  {
   "cell_type": "code",
   "execution_count": null,
   "id": "4b4d9453",
   "metadata": {},
   "outputs": [],
   "source": [
    "@time sobol_result_Me2_NEE= GlobalSensitivity.gsa(p -> qoi2(p, num_pcs), GlobalSensitivity.Sobol(order=[0,1,2]), A, B)"
   ]
  },
  {
   "cell_type": "code",
   "execution_count": null,
   "id": "25c78e23",
   "metadata": {},
   "outputs": [],
   "source": [
    "fillrange = 0.01\n",
    "z = collect(zip(sobol_result_Me2_NEE.S1, sobol_result_Me2_NEE.ST))\n",
    "mat = [tup[k] for tup in z, k in 1:2]\n",
    "\n",
    "ctg = repeat([\"First-Order\", \"Total\"], inner = length(sobol_result_Me2_NEE.S1))\n",
    "nam = repeat(labels, outer = 2)\n",
    "plt = groupedbar(mat, group = ctg, spacing=0.5, ylabel = \"Sobol Index\",\n",
    "            title = \"\", linecolor = [:magenta :blue], framestyle = :box, ylim=(0,1),  xticks = (1:26,xlabel_str),\n",
    "            xtickfontsize=10, ylabelfontsize=18,bar_width=0.8, xrotation=90, widen=false, grid=false,\n",
    "            tick_direction=:none,c = [:magenta :blue],legend_background_color=:white, \n",
    "            legend_foreground_color=:white, margin=5mm)"
   ]
  },
  {
   "cell_type": "code",
   "execution_count": null,
   "id": "f500c51b",
   "metadata": {},
   "outputs": [],
   "source": [
    "savefig(plt, \"sobol_indices_$(N_sample)_samples_US_Me2_NEE.pdf\")"
   ]
  },
  {
   "cell_type": "code",
   "execution_count": null,
   "id": "ad8b9e41",
   "metadata": {},
   "outputs": [],
   "source": [
    "emulator_filename3 = \"./emulator_EFLX_LH_TOT_US_Me2.jld2\";\n",
    "@load emulator_filename3 array_GP pca_fit μ_z σ_z\n",
    "emulator_components3 = (GPs = array_GP, T_PCA = pca_fit, μ_z = μ_z, σ_z = σ_z)\n",
    "\n",
    "function qoi3(param_vals, N_PCA=num_pcs)\n",
    "    # A function to compute a QOI\n",
    "    θ = hcat(param_vals...)\n",
    "    emulator_eval = calibration_emulator(θ, emulator_components3, N_PCA)\n",
    "    return mean(emulator_eval)\n",
    "end"
   ]
  },
  {
   "cell_type": "code",
   "execution_count": null,
   "id": "b32a31a4",
   "metadata": {},
   "outputs": [],
   "source": [
    "@time sobol_result_Me2_LH= GlobalSensitivity.gsa(p -> qoi3(p, num_pcs), GlobalSensitivity.Sobol(order=[0,1,2]), A, B)"
   ]
  },
  {
   "cell_type": "code",
   "execution_count": null,
   "id": "b2ab4468",
   "metadata": {},
   "outputs": [],
   "source": [
    "fillrange = 0.01\n",
    "z = collect(zip(sobol_result_Me2_LH.S1, sobol_result_Me2_LH.ST))\n",
    "mat = [tup[k] for tup in z, k in 1:2]\n",
    "\n",
    "ctg = repeat([\"First-Order\", \"Total\"], inner = length(sobol_result_Me2_LH.S1))\n",
    "nam = repeat(labels, outer = 2)\n",
    "\n",
    "plt = groupedbar(mat, group = ctg, spacing=0.5, ylabel = \"Sobol Index\",\n",
    "            title = \"\", linecolor = [:magenta :blue], framestyle = :box, ylim=(0,1),  xticks = (1:26,xlabel_str),\n",
    "            xtickfontsize=10, ylabelfontsize=18,bar_width=0.8, xrotation=90, widen=false, grid=false,\n",
    "            tick_direction=:none,c = [:magenta :blue],legend_background_color=:white, \n",
    "            legend_foreground_color=:white, margin=5mm)"
   ]
  },
  {
   "cell_type": "code",
   "execution_count": null,
   "id": "84aabd8b",
   "metadata": {},
   "outputs": [],
   "source": [
    "savefig(plt, \"sobol_indices_$(N_sample)_samples_US_Me2_LH.pdf\")"
   ]
  },
  {
   "cell_type": "code",
   "execution_count": null,
   "id": "77f3eb37",
   "metadata": {},
   "outputs": [],
   "source": [
    "emulator_filename4 = \"./emulator_FSH_US_Me2.jld2\";\n",
    "@load emulator_filename4 array_GP pca_fit μ_z σ_z\n",
    "emulator_components4 = (GPs = array_GP, T_PCA = pca_fit, μ_z = μ_z, σ_z = σ_z)\n",
    "\n",
    "function qoi4(param_vals, N_PCA=num_pcs)\n",
    "    # A function to compute a QOI\n",
    "    # In this case, mean GPP\n",
    "    θ = hcat(param_vals...)\n",
    "    emulator_eval = calibration_emulator(θ, emulator_components4, N_PCA)\n",
    "    return mean(emulator_eval)\n",
    "end"
   ]
  },
  {
   "cell_type": "code",
   "execution_count": null,
   "id": "70d67949",
   "metadata": {},
   "outputs": [],
   "source": [
    "@time sobol_result_Me2_SH= GlobalSensitivity.gsa(p -> qoi4(p, num_pcs), GlobalSensitivity.Sobol(order=[0,1,2]), A, B)"
   ]
  },
  {
   "cell_type": "code",
   "execution_count": null,
   "id": "1fb7701c",
   "metadata": {},
   "outputs": [],
   "source": [
    "fillrange = 0.01\n",
    "z = collect(zip(sobol_result_Me2_SH.S1, sobol_result_Me2_SH.ST))\n",
    "mat = [tup[k] for tup in z, k in 1:2]\n",
    "\n",
    "ctg = repeat([\"First-Order\", \"Total\"], inner = length(sobol_result_Me2_SH.S1))\n",
    "nam = repeat(labels, outer = 2)\n",
    "\n",
    "plt = groupedbar(mat, group = ctg, spacing=0.5, ylabel = \"Sobol Index\",\n",
    "            title = \"\", linecolor = [:magenta :blue], framestyle = :box, ylim=(0,1),  xticks = (1:26,xlabel_str),\n",
    "            xtickfontsize=10, ylabelfontsize=18,bar_width=0.8, xrotation=90, widen=false, grid=false,\n",
    "            tick_direction=:none,c = [:magenta :blue],legend_background_color=:white, \n",
    "            legend_foreground_color=:white, margin=5mm)"
   ]
  },
  {
   "cell_type": "code",
   "execution_count": null,
   "id": "bba3dfd2",
   "metadata": {},
   "outputs": [],
   "source": [
    "savefig(plt, \"sobol_indices_$(N_sample)_samples_US_Me2_SH.pdf\")"
   ]
  },
  {
   "cell_type": "code",
   "execution_count": null,
   "id": "b1724897",
   "metadata": {},
   "outputs": [],
   "source": [
    "emulator_filename11 = \"./emulator_ER_US_Me2.jld2\";\n",
    "@load emulator_filename11 array_GP pca_fit μ_z σ_z\n",
    "emulator_components11 = (GPs = array_GP, T_PCA = pca_fit, μ_z = μ_z, σ_z = σ_z)\n",
    "\n",
    "function qoi11(param_vals, N_PCA=num_pcs)\n",
    "    # A function to compute a QOI\n",
    "    # In this case, mean GPP\n",
    "    θ = hcat(param_vals...)\n",
    "    emulator_eval = calibration_emulator(θ, emulator_components11, N_PCA)\n",
    "    return mean(emulator_eval)\n",
    "end"
   ]
  },
  {
   "cell_type": "code",
   "execution_count": null,
   "id": "64b80606",
   "metadata": {},
   "outputs": [],
   "source": [
    "@time sobol_result_Me2_ER= GlobalSensitivity.gsa(p -> qoi11(p, num_pcs), GlobalSensitivity.Sobol(order=[0,1,2]), A, B)"
   ]
  },
  {
   "cell_type": "code",
   "execution_count": null,
   "id": "f3b380eb",
   "metadata": {},
   "outputs": [],
   "source": [
    "fillrange = 0.01\n",
    "z = collect(zip(sobol_result_Me2_ER.S1, sobol_result_Me2_ER.ST))\n",
    "mat = [tup[k] for tup in z, k in 1:2]\n",
    "\n",
    "ctg = repeat([\"First-Order\", \"Total\"], inner = length(sobol_result_Me2_ER.S1))\n",
    "nam = repeat(labels, outer = 2)\n",
    "\n",
    "plt = groupedbar(mat, group = ctg, spacing=0.5, ylabel = \"Sobol Index\",\n",
    "            title = \"\", linecolor = [:magenta :blue], framestyle = :box, ylim=(0,1),  xticks = (1:26,xlabel_str),\n",
    "            xtickfontsize=10, ylabelfontsize=18,bar_width=0.8, xrotation=90, widen=false, grid=false,\n",
    "            tick_direction=:none,c = [:magenta :blue],legend_background_color=:white, \n",
    "            legend_foreground_color=:white, margin=5mm)"
   ]
  },
  {
   "cell_type": "code",
   "execution_count": null,
   "id": "8fcc4cb7",
   "metadata": {},
   "outputs": [],
   "source": [
    "savefig(plt, \"sobol_indices_$(N_sample)_samples_US_Me2_ER.pdf\")"
   ]
  },
  {
   "cell_type": "code",
   "execution_count": null,
   "id": "835d6eb6",
   "metadata": {},
   "outputs": [],
   "source": [
    "vec3=vcat(transpose(sobol_result_Me2_LH.ST),transpose(sobol_result_Me2_SH.ST),transpose(sobol_result_Me2_NEE.ST),transpose(sobol_result_Me2_ER.ST),transpose(sobol_result_Me2_GPP.ST))"
   ]
  },
  {
   "cell_type": "code",
   "execution_count": null,
   "id": "d07bf7ef",
   "metadata": {},
   "outputs": [],
   "source": [
    "quantity_prefix = [\"LE\",\"H\",\"NEE\",\"TER\",\"GPP\"]\n",
    "ylabel_str=quantity_prefix\n",
    "plt=plot(vec3, st=:heatmap, clim=(0,1),  xticks = (1:26,xlabel_str), yticks=(1:5,ylabel_str), xtickfont=font(12), \n",
    "    ytickfont=font(12), color=:Reds, colorbar_title=\"\",xrotation=-60, margin=5mm)\n"
   ]
  },
  {
   "cell_type": "code",
   "execution_count": null,
   "id": "6bed85cb",
   "metadata": {},
   "outputs": [],
   "source": [
    "savefig(plt, \"fig4_sobol_GSA_US_Me2_4var_20250224.pdf\")"
   ]
  },
  {
   "cell_type": "code",
   "execution_count": null,
   "id": "98804ef1",
   "metadata": {},
   "outputs": [],
   "source": [
    "emulator_filename5 = \"./emulator_GPP_US_Dk3.jld2\";\n",
    "@load emulator_filename5 array_GP pca_fit μ_z σ_z\n",
    "emulator_components5 = (GPs = array_GP, T_PCA = pca_fit, μ_z = μ_z, σ_z = σ_z)\n",
    "\n",
    "function qoi5(param_vals, N_PCA=num_pcs)\n",
    "    # A function to compute a QOI\n",
    "    # In this case, mean GPP\n",
    "    θ = hcat(param_vals...)\n",
    "    emulator_eval = calibration_emulator(θ, emulator_components5, N_PCA)\n",
    "    return mean(emulator_eval)\n",
    "end"
   ]
  },
  {
   "cell_type": "code",
   "execution_count": null,
   "id": "cff6f18f",
   "metadata": {},
   "outputs": [],
   "source": [
    "@time sobol_result_Dk3_GPP = GlobalSensitivity.gsa(p -> qoi5(p, num_pcs), GlobalSensitivity.Sobol(order=[0,1,2]), A, B)"
   ]
  },
  {
   "cell_type": "code",
   "execution_count": null,
   "id": "ccf5cd50",
   "metadata": {},
   "outputs": [],
   "source": [
    "fillrange = 0.01\n",
    "z = collect(zip(sobol_result_Dk3_GPP.S1, sobol_result_Dk3_GPP.ST))\n",
    "mat = [tup[k] for tup in z, k in 1:2]\n",
    "\n",
    "ctg = repeat([\"First-Order\", \"Total\"], inner = length(sobol_result_Dk3_GPP.S1))\n",
    "nam = repeat(labels, outer = 2)\n",
    "\n",
    "plt = groupedbar(mat, group = ctg, spacing=0.5, ylabel = \"Sobol Index\",\n",
    "            title = \"\", linecolor = [:magenta :blue], framestyle = :box, ylim=(0,1),  xticks = (1:26,xlabel_str),\n",
    "            xtickfontsize=10, ylabelfontsize=18,bar_width=0.8, xrotation=90, widen=false, grid=false,\n",
    "            tick_direction=:none,c = [:magenta :blue],legend_background_color=:white, \n",
    "            legend_foreground_color=:white, margin=5mm)"
   ]
  },
  {
   "cell_type": "code",
   "execution_count": null,
   "id": "acd0c1f0",
   "metadata": {},
   "outputs": [],
   "source": [
    "emulator_filename6 = \"./emulator_GPP_US_Blo.jld2\";\n",
    "@load emulator_filename6 array_GP pca_fit μ_z σ_z\n",
    "emulator_components6 = (GPs = array_GP, T_PCA = pca_fit, μ_z = μ_z, σ_z = σ_z)\n",
    "\n",
    "function qoi6(param_vals, N_PCA=num_pcs)\n",
    "    # A function to compute a QOI\n",
    "    # In this case, mean GPP\n",
    "    θ = hcat(param_vals...)\n",
    "    emulator_eval = calibration_emulator(θ, emulator_components6, N_PCA)\n",
    "    return mean(emulator_eval)\n",
    "end"
   ]
  },
  {
   "cell_type": "code",
   "execution_count": null,
   "id": "9341383f",
   "metadata": {},
   "outputs": [],
   "source": [
    "@time sobol_result_Blo_GPP = GlobalSensitivity.gsa(p -> qoi6(p, num_pcs), GlobalSensitivity.Sobol(order=[0,1,2]), A, B)"
   ]
  },
  {
   "cell_type": "code",
   "execution_count": null,
   "id": "01ae44ce",
   "metadata": {},
   "outputs": [],
   "source": [
    "fillrange = 0.01\n",
    "z = collect(zip(sobol_result_Blo_GPP.S1, sobol_result_Blo_GPP.ST))\n",
    "mat = [tup[k] for tup in z, k in 1:2]\n",
    "\n",
    "ctg = repeat([\"First-Order\", \"Total\"], inner = length(sobol_result_Blo_GPP.S1))\n",
    "nam = repeat(labels, outer = 2)\n",
    "\n",
    "plt = groupedbar(mat, group = ctg, spacing=0.5, ylabel = \"Sobol Index\",\n",
    "            title = \"\", linecolor = [:magenta :blue], framestyle = :box, ylim=(0,1),  xticks = (1:26,xlabel_str),\n",
    "            xtickfontsize=10, ylabelfontsize=18,bar_width=0.8, xrotation=90, widen=false, grid=false,\n",
    "            tick_direction=:none,c = [:magenta :blue],legend_background_color=:white, \n",
    "            legend_foreground_color=:white, margin=5mm)"
   ]
  },
  {
   "cell_type": "code",
   "execution_count": null,
   "id": "de5f7682",
   "metadata": {},
   "outputs": [],
   "source": [
    "emulator_filename7 = \"./emulator_GPP_CA_TP4.jld2\";\n",
    "@load emulator_filename7 array_GP pca_fit μ_z σ_z\n",
    "emulator_components7 = (GPs = array_GP, T_PCA = pca_fit, μ_z = μ_z, σ_z = σ_z)\n",
    "\n",
    "function qoi7(param_vals, N_PCA=num_pcs)\n",
    "    # A function to compute a QOI\n",
    "    # In this case, mean GPP\n",
    "    θ = hcat(param_vals...)\n",
    "    emulator_eval = calibration_emulator(θ, emulator_components7, N_PCA)\n",
    "    return mean(emulator_eval)\n",
    "end"
   ]
  },
  {
   "cell_type": "code",
   "execution_count": null,
   "id": "af08b355",
   "metadata": {},
   "outputs": [],
   "source": [
    "@time sobol_result_TP4_GPP = GlobalSensitivity.gsa(p -> qoi7(p, num_pcs), GlobalSensitivity.Sobol(order=[0,1,2]), A, B)"
   ]
  },
  {
   "cell_type": "code",
   "execution_count": null,
   "id": "73dcbc40",
   "metadata": {},
   "outputs": [],
   "source": [
    "fillrange = 0.01\n",
    "z = collect(zip(sobol_result_TP4_GPP.S1, sobol_result_TP4_GPP.ST))\n",
    "mat = [tup[k] for tup in z, k in 1:2]\n",
    "\n",
    "ctg = repeat([\"First-Order\", \"Total\"], inner = length(sobol_result_TP4_GPP.S1))\n",
    "nam = repeat(labels, outer = 2)\n",
    "\n",
    "plt = groupedbar(mat, group = ctg, spacing=0.5, ylabel = \"Sobol Index\",\n",
    "            title = \"\", linecolor = [:magenta :blue], framestyle = :box, ylim=(0,1),  xticks = (1:26,xlabel_str),\n",
    "            xtickfontsize=10, ylabelfontsize=18,bar_width=0.8, xrotation=90, widen=false, grid=false,\n",
    "            tick_direction=:none,c = [:magenta :blue],legend_background_color=:white, \n",
    "            legend_foreground_color=:white, margin=5mm)"
   ]
  },
  {
   "cell_type": "code",
   "execution_count": null,
   "id": "739e8ef3",
   "metadata": {},
   "outputs": [],
   "source": [
    "emulator_filename8 = \"./emulator_GPP_US_NR1.jld2\";\n",
    "@load emulator_filename8 array_GP pca_fit μ_z σ_z\n",
    "emulator_components8 = (GPs = array_GP, T_PCA = pca_fit, μ_z = μ_z, σ_z = σ_z)\n",
    "\n",
    "function qoi8(param_vals, N_PCA=num_pcs)\n",
    "    # A function to compute a QOI\n",
    "    # In this case, mean GPP\n",
    "    θ = hcat(param_vals...)\n",
    "    emulator_eval = calibration_emulator(θ, emulator_components8, N_PCA)\n",
    "    return mean(emulator_eval)\n",
    "end"
   ]
  },
  {
   "cell_type": "code",
   "execution_count": null,
   "id": "88afc8f3",
   "metadata": {},
   "outputs": [],
   "source": [
    "@time sobol_result_NR1_GPP = GlobalSensitivity.gsa(p -> qoi8(p, num_pcs), GlobalSensitivity.Sobol(order=[0,1,2]), A, B)"
   ]
  },
  {
   "cell_type": "code",
   "execution_count": null,
   "id": "3a92ee96",
   "metadata": {},
   "outputs": [],
   "source": [
    "fillrange = 0.01\n",
    "z = collect(zip(sobol_result_NR1_GPP.S1, sobol_result_NR1_GPP.ST))\n",
    "mat = [tup[k] for tup in z, k in 1:2]\n",
    "\n",
    "ctg = repeat([\"First-Order\", \"Total\"], inner = length(sobol_result_NR1_GPP.S1))\n",
    "nam = repeat(labels, outer = 2)\n",
    "\n",
    "plt = groupedbar(mat, group = ctg, spacing=0.5, ylabel = \"Sobol Index\",\n",
    "            title = \"\", linecolor = [:magenta :blue], framestyle = :box, ylim=(0,1),  xticks = (1:26,xlabel_str),\n",
    "            xtickfontsize=10, ylabelfontsize=18,bar_width=0.8, xrotation=90, widen=false, grid=false,\n",
    "            tick_direction=:none,c = [:magenta :blue],legend_background_color=:white, \n",
    "            legend_foreground_color=:white, margin=5mm)"
   ]
  },
  {
   "cell_type": "code",
   "execution_count": null,
   "id": "1abac7f7",
   "metadata": {},
   "outputs": [],
   "source": [
    "elements = [\"flnr\",\"slatop\",\"dleaf\",\"dsladlai\",\"leaf_long\",\"s_vc\",\"bbbopt\",\"mbbopt\",\"smpsc\",\"smpso\",\"rholvis\",\"rholnir\",\"taulvis\",\n",
    "            \"taulnir\",\"rhosvis\",\"rhosnir\",\"xl\",\"displar\",\"z0mr\",\"vcmaxha\",\"vcmaxhd\",\"jmaxha\",\"jmaxhd\",\"roota_par\",\"rootb_par\",\"grperc\"]\n",
    "site_prefix = [\"US_Dk3\",\"CA_TP4\",\"US_NR1\",\"US_Blo\",\"US_Me2\"]\n",
    "xlabel_str=elements\n",
    "ylabel_str=site_prefix "
   ]
  },
  {
   "cell_type": "code",
   "execution_count": null,
   "id": "bd914caa",
   "metadata": {},
   "outputs": [],
   "source": [
    "vec2=vcat(transpose(sobol_result_Me2_GPP.ST),transpose(sobol_result_Blo_GPP.ST),transpose(sobol_result_NR1_GPP.ST),transpose(sobol_result_TP4_GPP.ST),transpose(sobol_result_Dk3_GPP.ST))"
   ]
  },
  {
   "cell_type": "code",
   "execution_count": null,
   "id": "d28bb60d",
   "metadata": {},
   "outputs": [],
   "source": [
    "plt=plot(vec2, st=:heatmap, clim=(0,1),  xticks = (1:26,xlabel_str), yticks=(1:5,ylabel_str), xtickfont=font(12), \n",
    "    ytickfont=font(12),  color=:Reds, colorbar_title=\"\",xrotation=-60, margin=5mm)"
   ]
  },
  {
   "cell_type": "code",
   "execution_count": null,
   "id": "822782c3",
   "metadata": {},
   "outputs": [],
   "source": [
    "savefig(plt, \"fig5_sobol_Sobol_GSA_GPP_5sites_20250224.pdf\")"
   ]
  },
  {
   "cell_type": "code",
   "execution_count": null,
   "id": "84c14e1b-8783-4155-a825-57c4831d3341",
   "metadata": {},
   "outputs": [],
   "source": []
  }
 ],
 "metadata": {
  "kernelspec": {
   "display_name": "Julia 1.11.0-rc2",
   "language": "julia",
   "name": "julia-1.11"
  },
  "language_info": {
   "file_extension": ".jl",
   "mimetype": "application/julia",
   "name": "julia",
   "version": "1.11.0"
  }
 },
 "nbformat": 4,
 "nbformat_minor": 5
}
